{
 "cells": [
  {
   "cell_type": "code",
   "execution_count": 222,
   "metadata": {},
   "outputs": [],
   "source": [
    "from numpy import cos, sin, radians, pi, sqrt, interp, log10, log, asarray, abs\n",
    "import pandas as pd"
   ]
  },
  {
   "cell_type": "markdown",
   "metadata": {},
   "source": [
    "Informações enunciado"
   ]
  },
  {
   "cell_type": "code",
   "execution_count": 223,
   "metadata": {},
   "outputs": [],
   "source": [
    "m = 4                  #modulo\n",
    "Np, Ng= 20, 60         #número de dentes \n",
    "theta = 20             #angulo de pressão\n",
    "ωp = 1200              #rotação pinhão\n",
    "sy = 65                #MPa       #ignora\n",
    "n = 1                  #coeficiente de segurança   #ignora\n",
    "η = 0                  #eficiencia  #%      #ignora\n",
    "v = 0.29               #coeficiente de poisson\n",
    "b = 41                 #largura da face 6 a 16*m  \n",
    "DE = 47                #diametro do eixo #mm"
   ]
  },
  {
   "cell_type": "code",
   "execution_count": 224,
   "metadata": {},
   "outputs": [],
   "source": [
    "Ep = Eg = 205*10**3     #MPa\n",
    "vp = vg = v \n",
    "S = 300   #mm\n",
    "S1 = 53   #mm\n",
    "cte = [ 2.47*10**(-1),\n",
    "        0.657*10**(-3),\n",
    "       -1.186*10**(-7) ]\n",
    "\n",
    "Av = 9                 #assumindo indice de qualidade 9"
   ]
  },
  {
   "cell_type": "code",
   "execution_count": 225,
   "metadata": {},
   "outputs": [],
   "source": [
    "ZW = 1    #fator de razão de dureza para resistencia ao crateramento    #O valor de ZW para o pinhão é fixado em 1,0.\n",
    "Y0 = 1    #fator de temperatura     #1 p/ até 120C\n",
    "YJ = 0.335   #grafico em função de N"
   ]
  },
  {
   "cell_type": "code",
   "execution_count": 226,
   "metadata": {},
   "outputs": [],
   "source": [
    "Lp = Lg = 41                #meses\n",
    "qp = qg = 1                 #p/ rotação em 1 direção só\n",
    "confp = confg = 99          #confiabilidade #%\n",
    "ft = [3.32, 1.89]           #tabelado em função do número de dentes"
   ]
  },
  {
   "cell_type": "code",
   "execution_count": 227,
   "metadata": {},
   "outputs": [],
   "source": [
    "#r = [ft[0]*m, ft[1]*m] "
   ]
  },
  {
   "cell_type": "code",
   "execution_count": 228,
   "metadata": {},
   "outputs": [],
   "source": [
    "#r[0], r[1]"
   ]
  },
  {
   "cell_type": "code",
   "execution_count": 229,
   "metadata": {},
   "outputs": [],
   "source": [
    "def de(N):\n",
    "    return m*( N + 2 )                        #d_externo\n",
    "\n",
    "def dr(N):\n",
    "    return m*( N - 2.5 )                      #d_raiz\n",
    "\n",
    "def dp(N):\n",
    "    return m*N                                #d_primitivo  \n",
    "         \n",
    "def db(N):\n",
    "    return cos(radians(theta))*dp(N)          #d_base\n",
    "\n",
    "def V(N, ω):\n",
    "    return (pi*ω/30)*(dp(N)/2000)             #velocidade linear\n",
    "\n",
    "def KV(N, ω):\n",
    "    return (6.1 + V(N, ω))/6.1                #fator de velocidade"
   ]
  },
  {
   "cell_type": "code",
   "execution_count": 230,
   "metadata": {},
   "outputs": [],
   "source": [
    "p = m*pi                                 #passo circular\n",
    "e = p/2                                  #espessura do dente\n",
    "r = 0.3*m                                #raio do filete \n",
    "i = Ng/Np                                #relação de engrenamento\n",
    "f = 0.3*m                                #cordão raiz do dente (ou raio do filete)\n",
    "d_centros = ( dp(Np) + dp(Ng) )/2        #Distancia entre centros "
   ]
  },
  {
   "cell_type": "code",
   "execution_count": 231,
   "metadata": {},
   "outputs": [],
   "source": [
    "##FATOR DE FORMA##\n",
    "def Y(N):\n",
    "    N_l = [12, 13, 14, 15, 16, 17, 18, 19, 20, 21, 22, 24, 26, 28, 30, 34, 38, 43, 50, 60, 75, 100, 150, 300, 400]\n",
    "    Y_l = [0.2450, 0.2610, 0.2770, 0.2900, 0.2960, 0.3030, 0.3090, 0.3140, 0.3220, 0.3280, 0.3310, 0.3370, 0.3460, 0.3530, 0.3590, 0.3710, 0.3840, 0.3970, 0.4090, 0.4220, 0.4350, 0.4470, 0.4600, 0.4720, 0.4800]\n",
    "    return interp(N, N_l, Y_l)"
   ]
  },
  {
   "cell_type": "code",
   "execution_count": 232,
   "metadata": {},
   "outputs": [],
   "source": [
    "σmax = sy/n                                                                                  #tensão máxima\n",
    "ωg = ωp/i                                                                                    #rotação na coroa\n",
    "\n",
    "#def wt(N, ω):\n",
    "#    return ( sy*b*m*Y(N) ) / ( n*KV(N, ω) )                                                  #carga tangecial\n",
    "\n",
    "def wt(N, ω):\n",
    "    return 2050                                                 #carga tangecial\n",
    "\n",
    "def T(N, ω):                                                                                 #torque\n",
    "    return wt(N, ω)*(dp(N)/2000)\n",
    "\n",
    "Pp, Pg = wt(N=Np, ω=ωp)*V(N=Np, ω=ωp), ( T(N=Ng, ω=ωg) * ωg )*(100 - η)/ ( 100 * 9.55 )      #potencia\n"
   ]
  },
  {
   "cell_type": "code",
   "execution_count": 234,
   "metadata": {},
   "outputs": [],
   "source": [
    "## CONSTANTES PARA CALCULAR O FATOR DINAMICO kv ##\n",
    "B = 0.25 * (Av - 5)**(2/3)\n",
    "C = 3.5637 + 3.9914*( 1 - B )"
   ]
  },
  {
   "cell_type": "code",
   "execution_count": 235,
   "metadata": {},
   "outputs": [],
   "source": [
    "Khma = cte[0] + cte[1]*b + cte[2]*(b**2)         #fator de alinhamento de engrenamento\n",
    "Khe = 1  \n",
    "if S1/S<0.175:                                        #fator de ajuste\n",
    "    Khpm = 1\n",
    "if S1/S>=0.175:\n",
    "    Khpm = 1.1                                                 #fator de carga de deflexão\n",
    "Khmc = 1                                         #fator de formato da face do dente\n",
    "\n",
    "def Khpf(N):\n",
    "    return ( b/(10*dp(N)) ) - 0.0375 + 0.000492*b   #fator de proporção do pinhão"
   ]
  },
  {
   "cell_type": "code",
   "execution_count": 236,
   "metadata": {},
   "outputs": [],
   "source": [
    "def Ko():\n",
    "    return 1      #maquina acionada = uniforme; fonte de alimentação=uniforme                                          #fator de sobrecarga      #motor elétrico que aciona uma bomba centrífuga de baixa velocidade\n",
    "\n",
    "def Kh(N):\n",
    "    return 1 + Khmc * ( Khpf(N) * Khpm + Khma * Khe)    #fator de distribuição de carga\n",
    "\n",
    "def kv(N, ω):\n",
    "    return ( C / (C + sqrt(V(N, ω)) ) )**(-B)         #fator dinâmico\n",
    "\n",
    "#def Ks():\n",
    "#    return 1                                             #fator de tamanho\n",
    "\n",
    "if b>=2.79 and b<=51:\n",
    "    def Ks(N):\n",
    "        return 1/( 1.18337*(b*m*sqrt(Y(N)))**(-0.0535) )   #p/ b de 2,79 a 51mm\n",
    "\n",
    "if b>=52 and b<=254:\n",
    "    def Ks(N):\n",
    "        return 1/( 1.4098*(b*m*sqrt(Y(N)))**(-0.0785) )   #p/ b de 52 a 254mm\n"
   ]
  },
  {
   "cell_type": "code",
   "execution_count": 238,
   "metadata": {},
   "outputs": [],
   "source": [
    "def Zr():\n",
    "    return 1                                                                   #fator de condição de superfície\n",
    "\n",
    "def Ze():\n",
    "    return sqrt( 1/( pi * ( ( (1 - vp**2) / Ep) + (( 1 - vg**2 ) / Eg) ) ) )   #coeficiente de elasticidade"
   ]
  },
  {
   "cell_type": "code",
   "execution_count": 240,
   "metadata": {},
   "outputs": [],
   "source": [
    "def C_c():\n",
    "    return cos(radians(theta)) * sin(radians(theta)) * i / ( 2*(i+1) )   #fator de curvatura na linha primitiva\n",
    "\n",
    "def C_1(N):\n",
    "     return N*sin(radians(theta))/2\n",
    "\n",
    "def C_2(N):\n",
    "    return C_1(N)*i\n",
    "\n",
    "def C_3(N):\n",
    "    return pi*cos(radians(theta))\n",
    "\n",
    "def C_4(N):\n",
    "     return 0.5 * ( sqrt( ((N + 2)**2) - (N*cos( radians(theta)))**2 ) - sqrt( (N**2) - (N*cos( radians(theta) ))**2 ) )\n",
    "\n",
    "def C_x(N):\n",
    "    return (C_1(N) - C_3(N) + C_4(N))*(C_2(N) + C_3(N) - C_4(N)) / ( C_1(N)*C_2(N) )  # fator para ajuste da altura específica do LPSTC (ponto extremo inferior de contato de um dente)"
   ]
  },
  {
   "cell_type": "code",
   "execution_count": 241,
   "metadata": {},
   "outputs": [],
   "source": [
    "## FATOR GEOMÉTRICO PARA RESISTÊNCIA AO CRATERAMENTO ##\n",
    "\n",
    "def Zi(N):\n",
    "    return C_c()*C_x(N)                "
   ]
  },
  {
   "cell_type": "code",
   "execution_count": 242,
   "metadata": {},
   "outputs": [],
   "source": [
    "## TENSÃO DE CONTATO ##\n",
    "\n",
    "def 𝜎H(N, ω):\n",
    "    return 𝑍e()*sqrt( ( wt(N, ω) * 𝐾o() *  kv(N, ω) * 𝐾s(N) * 𝐾h(N) * 𝑍r() ) / (dp(N) * 𝑏 * 𝑍i(N)) )  "
   ]
  },
  {
   "cell_type": "code",
   "execution_count": 243,
   "metadata": {},
   "outputs": [],
   "source": [
    "## FATOR DE CONFIABILIDADE ##\n",
    "## CONSIDERANDO A TABELA ##\n",
    "\n",
    "def YZ(conf):\n",
    "    data_yz = {\n",
    "        'confiabilidade': [99.99, 99.9, 99, 90, 50],\n",
    "        'Yz': [1.5, 1.25, 1, 0.85, 0.70]\n",
    "    }\n",
    "    df_yz = pd.DataFrame(data_yz)\n",
    "    return float(df_yz.loc[df_yz['confiabilidade']==float(conf)]['Yz'])\n",
    "\n",
    "## CONSIDERANDO A EQUAÇÃO ##\n",
    "\n",
    "#def YZ(conf):\n",
    "#    return 0.658 - 0.0759*log(1-conf/100)   #0,5<=conf<=0,99\n",
    "#\n",
    "#def YZ(conf):\n",
    "#    return 0.5 - 0.109*log(1-conf/100)      #0,99<=conf<=0,9999"
   ]
  },
  {
   "cell_type": "code",
   "execution_count": 245,
   "metadata": {},
   "outputs": [],
   "source": [
    "def nL(L, ω, q):\n",
    "    return 60*L*ω*q*720         #número de ciclos de tensão\n",
    "\n",
    "def ZN(L, ω, q):\n",
    "    return 1.4488*nL(L, ω, q)**(-0.023)    #fator do ciclagem de tensão para resistência ao crateramento\n",
    "  \n",
    "def HB(N, ω, L, q, conf):\n",
    "    return ( ( 𝜎H(N, ω)*Y0*YZ(conf) / ( ZN(L, ω, q)*ZW ) ) - 200 ) / 2.22      #dureza brinel preliminar #considerando SH = 1"
   ]
  },
  {
   "cell_type": "code",
   "execution_count": 246,
   "metadata": {},
   "outputs": [],
   "source": [
    "def brinell(value):\n",
    "    data_brinell = [111,116,121,126,131,137,143,149,156,163,167,170,174,179,183,187,192,197,201,207,212,217,223,229,235,\n",
    "     241,248,255,262,269,277,285,293,302,311,321,331,341,352,363,375,388,401,415,429,444,461,477,495,514,534,555,578,601,\n",
    "     627,653,682,712,745]\n",
    "\n",
    "    def find_nearest(array, value):\n",
    "        array = asarray(array)\n",
    "        idx = (abs(array - value)).argmin() \n",
    "        return array[idx]\n",
    "\n",
    "    if find_nearest(data_brinell, value)>=value:\n",
    "        idx = find_nearest(data_brinell, value)\n",
    "    else: \n",
    "        array = asarray(data_brinell)\n",
    "        idx = array[(abs(array - value)).argmin()  + 1]\n",
    "\n",
    "    return idx       #dureza brinel (entra o valor preliminar HB e retorna o valor mais próximo (acima) dos valores tabelados de dureza)"
   ]
  },
  {
   "cell_type": "code",
   "execution_count": 247,
   "metadata": {},
   "outputs": [],
   "source": [
    "def 𝜎HB(N, ω, L, q, conf):\n",
    "    return brinell(HB(N, ω, L, q, conf))*2.22 + 200          #Número ao contato permitido\n",
    "\n",
    "def SH(N, ω, L, q, conf):\n",
    "    return 𝜎HB(N, ω, L, q, conf)*ZN(L, ω, q)*ZW/(𝜎H(N, ω)*Y0*YZ(conf))    #fator de segurança AGMA ao contato"
   ]
  },
  {
   "cell_type": "code",
   "execution_count": 248,
   "metadata": {},
   "outputs": [],
   "source": [
    "A1 = [6,8,10,12,17,22,30,38,44,50,58,65,75,85,95,110,130,150,170,200,230,260,290,330,380,400]\n",
    "t2 = [1,1.4,1.8,2.3,2.8,3.3,3.3,3.3,3.8,4.3,4.4,4.9,5.4,5.4,6.4,7.4,8.4,9.4,10.4,11.4,12.4,12.4,14.4,15.4,17.4,19.5]\n",
    "A2 = [8,10,12,17,22,30,38,44,50,58,65,75,85,95,110,130,150,170,200,230,260,290,330,380,440,500]\n",
    "t1 = [1.2,1.8,2.5,3,3.5,4,5,5,5.5,6,7,7.5,9,9,10,11,12,13,15,17,20,20,22,25,28,31]"
   ]
  },
  {
   "cell_type": "code",
   "execution_count": 249,
   "metadata": {},
   "outputs": [],
   "source": [
    "for c in range(len(A1)):\n",
    "    if DE<=A2[c] and DE>A1[c]:\n",
    "        t = [t1[c], t2[c]]"
   ]
  },
  {
   "cell_type": "code",
   "execution_count": 250,
   "metadata": {},
   "outputs": [],
   "source": [
    "def ht(N):\n",
    "    return (de(N) - dr(N))/2"
   ]
  },
  {
   "cell_type": "code",
   "execution_count": 251,
   "metadata": {},
   "outputs": [],
   "source": [
    "def tr(N):\n",
    "    return (dr(N)/2) - (DE/2) + t[1]"
   ]
  },
  {
   "cell_type": "code",
   "execution_count": 252,
   "metadata": {},
   "outputs": [],
   "source": [
    "def mb(N):\n",
    "    return tr(N)/ht(N)"
   ]
  },
  {
   "cell_type": "code",
   "execution_count": 253,
   "metadata": {},
   "outputs": [],
   "source": [
    "def KB(N):\n",
    "    if mb(N)<1.2:\n",
    "        return 1.6*log(2.242/mb(N))\n",
    "    if mb(N)>=1.2:\n",
    "        return 1"
   ]
  },
  {
   "cell_type": "code",
   "execution_count": 254,
   "metadata": {},
   "outputs": [],
   "source": [
    "def 𝜎F(N, ω):\n",
    "    return wt(N, ω)*Ko()*kv(N, ω)*Ks(N)*Kh(N)*KB(N)/(b*m*YJ)"
   ]
  },
  {
   "cell_type": "code",
   "execution_count": 255,
   "metadata": {},
   "outputs": [],
   "source": [
    "def YN(L, ω, q):\n",
    "    return 1.3558*nL(L, ω, q)**(-0.0178)"
   ]
  },
  {
   "cell_type": "code",
   "execution_count": 256,
   "metadata": {},
   "outputs": [],
   "source": [
    "def 𝜎FP(N, ω, L, q, conf):\n",
    "    return 0.533*brinell(HB(N, ω, L, q, conf)) + 88.3"
   ]
  },
  {
   "cell_type": "code",
   "execution_count": 257,
   "metadata": {},
   "outputs": [],
   "source": [
    "def SF(N, ω, L, q, conf):\n",
    "    return 𝜎FP(N, ω, L, q, conf)*YN(L, ω, q)/(𝜎F(N, ω)*YZ(conf)*Y0)"
   ]
  },
  {
   "cell_type": "code",
   "execution_count": 259,
   "metadata": {},
   "outputs": [],
   "source": [
    "Dep, Deg = round(de(Np), 2) , round(de(Ng), 2)\n",
    "Drp, Drg = round(dr(Np), 2) , round(dr(Ng), 2)\n",
    "Dpp, Dpg = round(dp(Np), 2) , round(dp(Ng), 2)\n",
    "Dbp, Dbg = round(db(Np), 2) , round(db(Ng), 2)\n",
    "Vlp, Vlg = round(V(N=Np, ω=ωp), 2) , round(V(N=Ng, ω=ωg), 2)\n",
    "σmaxp, σmaxg = round(σmax, 2), round(σmax, 2)\n",
    "KVp, KVg = round(KV(N=Np, ω=ωp), 2) , round(KV(N=Np, ω=ωp), 2)\n",
    "Yp, Yg = round(Y(Np), 2) , round(Y(Ng), 2)\n",
    "wtp, wtg = round(wt(N=Np, ω=ωp), 2) , round(wt(N=Ng, ω=ωg), 2)\n",
    "Tp, Tg = round( T( N=Np, ω=ωp ), 2 ) , round( T( N=Ng, ω=ωg ), 2 )\n",
    "𝜎Hp, 𝜎Hg = round(𝜎H(N=Np, ω=ωp), 2), round(𝜎H(N=Ng, ω=ωg), 2)\n",
    "Zep, Zeg = round(Ze(), 2), round(Ze(), 2)\n",
    "Kop, Kog = round(Ko(), 2), round(Ko(), 2)\n",
    "kvp, kvg = round( kv(N=Np, ω=ωp), 2 ), round( kv(N=Ng, ω=ωg), 2 )\n",
    "Ksp, Ksg = round(Ks(N=Np), 2), round(Ks(N=Ng), 2)\n",
    "Khp, Khg = round(Kh(dp(Np)), 2), round(Kh(dp(Ng)), 2)\n",
    "Zip, Zig = round(Zi(Np), 2), round(Zi(Ng), 2)\n",
    "ZNp, ZNg = round(ZN(L=Lp, ω=ωp, q = qp), 2), round(ZN(L=Lg, ω=ωg, q = qg), 2)\n",
    "HBp = HBg  = round(brinell(HB(N=Np, ω=ωp, L=Lp, q=qp, conf=confp)), 2)\n",
    "𝜎HBp = 𝜎HBg = round(𝜎HB(N=Np, ω=ωp, L=Lp, q=qp, conf=confp), 2)\n",
    "SHp = SHg = round(SH(N=Np, ω=ωp, L=Lp, q=qp, conf=confp), 2)\n",
    "Zrp = Zrg = Zr()\n",
    "YZp, YZg = round(YZ(conf=confp), 2), round(YZ(conf=confg),2)\n",
    "htp, htg = round(ht(Np), 2),round(ht(Ng), 2)\n",
    "KBp, KBg = round(KB(Np), 2), round(KB(Ng), 2)\n",
    "𝜎FPp, 𝜎FPg = round(𝜎FP(N=Np, ω=ωp, L=Lp, q=qp, conf=confp), 2), round(𝜎FP(N=Ng, ω=ωg, L=Lg, q=qg, conf=confg), 2)\n",
    "SFp, SFg = round(SF(N=Np, ω=ωp, L=Lp, q=qp, conf=confp), 2), round(SF(N=Ng, ω=ωg, L=Lg, q=qg, conf=confg), 2)\n",
    "YNp, YNg = round(YN(L=Lp, ω=ωp, q=qp), 2), round(YN(L=Lg, ω=ωg, q=qg), 2)\n",
    "𝜎Fp, 𝜎Fg = round(𝜎F(N=Np, ω=ωp), 2), round(𝜎F(N=Ng, ω=ωg),2)\n",
    "trp, trg = round(tr(N=Np), 2), round(tr(N=Ng), 2)"
   ]
  },
  {
   "cell_type": "code",
   "execution_count": 260,
   "metadata": {},
   "outputs": [],
   "source": [
    "data = {\n",
    "    '': ['Pinhão', 'Coroa'],\n",
    "'Torque [N-m]': [ Tp, Tg ],\n",
    "'Raio filete (cordão raiz do dente) [mm]': [ round(f, 2) , '-' ],\n",
    "'Diâmetro primitivo [mm]': [ Dpp, Dpg ],\n",
    "'Diâmetro externo [mm]': [ Dep, Deg ],\n",
    "'Diâmetro raiz [mm]': [ Drp, Drg ],\n",
    "'Potência [W]': [ round(Pp, 2) , round(Pg, 2) ],\n",
    "'Velocidade linear [m/s]': [ Vlp, Vlg ],\n",
    "'Relação de transmissão': [ round(i, 2) , '-' ],\n",
    "'Rotação [rpm]': [ round(ωp ,2) , round(ωg, 2) ],\n",
    "'Distância de centros [mm]': [ round(d_centros, 2) , '-' ],\n",
    "'fator de sobrecarga (Ko):': [ Kop, '-' ],\n",
    "'fator dinâmico (Kv):': [ kvp, '-' ],\n",
    "'fator de tamanho (Ks):': [ Ksp, '-' ],\n",
    "'fator de distribuição de carga (Kh):': [ Khp, '-' ],\n",
    "'fator de condição de superfície (Zr):': [ Zrp, '-' ],\n",
    "'fator geométrico para resistência ao crateramento (Zi):': [ Zip, '-' ],\n",
    "'tensão de contato AGMA (𝜎H): [MPa]': [ 𝜎Hp, '-' ],\n",
    "'fator de ciclagem de tensão para resistência ao crateramento (Zn):': [ ZNp, '-' ],\n",
    "'fator de razão de dureza para resistência ao crateramento (ZW):': [ ZW, '-' ],\n",
    "'fator de temperatura (Y0):': [ Y0, '-' ],\n",
    "'fator de confiabilidade (YZ):': [ YZp, '-' ],\n",
    "'dureza Brinell selecionada (já ajustada): [HB]': [ HBp, '-' ],\n",
    "'número de resistência ao contato permitido (𝜎HB): [MPa]': [ 𝜎HBp,'- '],\n",
    "'fator de segurança ao crateramento:': [ SHp, '-' ],\n",
    "'Desenho técnico, apenas do pinhão:': ['-', '-']\n",
    "}"
   ]
  },
  {
   "cell_type": "code",
   "execution_count": 261,
   "metadata": {},
   "outputs": [],
   "source": [
    "df = pd.DataFrame(data)"
   ]
  },
  {
   "cell_type": "code",
   "execution_count": 262,
   "metadata": {},
   "outputs": [],
   "source": [
    "df_transposed = df.T"
   ]
  },
  {
   "cell_type": "code",
   "execution_count": 263,
   "metadata": {},
   "outputs": [
    {
     "data": {
      "text/html": [
       "<div>\n",
       "<style scoped>\n",
       "    .dataframe tbody tr th:only-of-type {\n",
       "        vertical-align: middle;\n",
       "    }\n",
       "\n",
       "    .dataframe tbody tr th {\n",
       "        vertical-align: top;\n",
       "    }\n",
       "\n",
       "    .dataframe thead th {\n",
       "        text-align: right;\n",
       "    }\n",
       "</style>\n",
       "<table border=\"1\" class=\"dataframe\">\n",
       "  <thead>\n",
       "    <tr style=\"text-align: right;\">\n",
       "      <th></th>\n",
       "      <th>0</th>\n",
       "      <th>1</th>\n",
       "    </tr>\n",
       "  </thead>\n",
       "  <tbody>\n",
       "    <tr>\n",
       "      <th></th>\n",
       "      <td>Pinhão</td>\n",
       "      <td>Coroa</td>\n",
       "    </tr>\n",
       "    <tr>\n",
       "      <th>Torque [N-m]</th>\n",
       "      <td>82.0</td>\n",
       "      <td>246.0</td>\n",
       "    </tr>\n",
       "    <tr>\n",
       "      <th>Raio filete (cordão raiz do dente) [mm]</th>\n",
       "      <td>1.2</td>\n",
       "      <td>-</td>\n",
       "    </tr>\n",
       "    <tr>\n",
       "      <th>Diâmetro primitivo [mm]</th>\n",
       "      <td>80</td>\n",
       "      <td>240</td>\n",
       "    </tr>\n",
       "    <tr>\n",
       "      <th>Diâmetro externo [mm]</th>\n",
       "      <td>88</td>\n",
       "      <td>248</td>\n",
       "    </tr>\n",
       "    <tr>\n",
       "      <th>Diâmetro raiz [mm]</th>\n",
       "      <td>70.0</td>\n",
       "      <td>230.0</td>\n",
       "    </tr>\n",
       "    <tr>\n",
       "      <th>Potência [W]</th>\n",
       "      <td>10304.42</td>\n",
       "      <td>10303.66</td>\n",
       "    </tr>\n",
       "    <tr>\n",
       "      <th>Velocidade linear [m/s]</th>\n",
       "      <td>5.03</td>\n",
       "      <td>5.03</td>\n",
       "    </tr>\n",
       "    <tr>\n",
       "      <th>Relação de transmissão</th>\n",
       "      <td>3.0</td>\n",
       "      <td>-</td>\n",
       "    </tr>\n",
       "    <tr>\n",
       "      <th>Rotação [rpm]</th>\n",
       "      <td>1200.0</td>\n",
       "      <td>400.0</td>\n",
       "    </tr>\n",
       "    <tr>\n",
       "      <th>Distância de centros [mm]</th>\n",
       "      <td>160.0</td>\n",
       "      <td>-</td>\n",
       "    </tr>\n",
       "    <tr>\n",
       "      <th>fator de sobrecarga (Ko):</th>\n",
       "      <td>1</td>\n",
       "      <td>-</td>\n",
       "    </tr>\n",
       "    <tr>\n",
       "      <th>fator dinâmico (Kv):</th>\n",
       "      <td>1.26</td>\n",
       "      <td>-</td>\n",
       "    </tr>\n",
       "    <tr>\n",
       "      <th>fator de tamanho (Ks):</th>\n",
       "      <td>1.08</td>\n",
       "      <td>-</td>\n",
       "    </tr>\n",
       "    <tr>\n",
       "      <th>fator de distribuição de carga (Kh):</th>\n",
       "      <td>1.27</td>\n",
       "      <td>-</td>\n",
       "    </tr>\n",
       "    <tr>\n",
       "      <th>fator de condição de superfície (Zr):</th>\n",
       "      <td>1</td>\n",
       "      <td>-</td>\n",
       "    </tr>\n",
       "    <tr>\n",
       "      <th>fator geométrico para resistência ao crateramento (Zi):</th>\n",
       "      <td>0.1</td>\n",
       "      <td>-</td>\n",
       "    </tr>\n",
       "    <tr>\n",
       "      <th>tensão de contato AGMA (𝜎H): [MPa]</th>\n",
       "      <td>618.29</td>\n",
       "      <td>-</td>\n",
       "    </tr>\n",
       "    <tr>\n",
       "      <th>fator de ciclagem de tensão para resistência ao crateramento (Zn):</th>\n",
       "      <td>0.88</td>\n",
       "      <td>-</td>\n",
       "    </tr>\n",
       "    <tr>\n",
       "      <th>fator de razão de dureza para resistência ao crateramento (ZW):</th>\n",
       "      <td>1</td>\n",
       "      <td>-</td>\n",
       "    </tr>\n",
       "    <tr>\n",
       "      <th>fator de temperatura (Y0):</th>\n",
       "      <td>1</td>\n",
       "      <td>-</td>\n",
       "    </tr>\n",
       "    <tr>\n",
       "      <th>fator de confiabilidade (YZ):</th>\n",
       "      <td>1.0</td>\n",
       "      <td>-</td>\n",
       "    </tr>\n",
       "    <tr>\n",
       "      <th>dureza Brinell selecionada (já ajustada): [HB]</th>\n",
       "      <td>229</td>\n",
       "      <td>-</td>\n",
       "    </tr>\n",
       "    <tr>\n",
       "      <th>número de resistência ao contato permitido (𝜎HB): [MPa]</th>\n",
       "      <td>708.38</td>\n",
       "      <td>-</td>\n",
       "    </tr>\n",
       "    <tr>\n",
       "      <th>fator de segurança ao crateramento:</th>\n",
       "      <td>1.01</td>\n",
       "      <td>-</td>\n",
       "    </tr>\n",
       "    <tr>\n",
       "      <th>Desenho técnico, apenas do pinhão:</th>\n",
       "      <td>-</td>\n",
       "      <td>-</td>\n",
       "    </tr>\n",
       "  </tbody>\n",
       "</table>\n",
       "</div>"
      ],
      "text/plain": [
       "                                                           0         1\n",
       "                                                      Pinhão     Coroa\n",
       "Torque [N-m]                                            82.0     246.0\n",
       "Raio filete (cordão raiz do dente) [mm]                  1.2         -\n",
       "Diâmetro primitivo [mm]                                   80       240\n",
       "Diâmetro externo [mm]                                     88       248\n",
       "Diâmetro raiz [mm]                                      70.0     230.0\n",
       "Potência [W]                                        10304.42  10303.66\n",
       "Velocidade linear [m/s]                                 5.03      5.03\n",
       "Relação de transmissão                                   3.0         -\n",
       "Rotação [rpm]                                         1200.0     400.0\n",
       "Distância de centros [mm]                              160.0         -\n",
       "fator de sobrecarga (Ko):                                  1         -\n",
       "fator dinâmico (Kv):                                    1.26         -\n",
       "fator de tamanho (Ks):                                  1.08         -\n",
       "fator de distribuição de carga (Kh):                    1.27         -\n",
       "fator de condição de superfície (Zr):                      1         -\n",
       "fator geométrico para resistência ao crateramen...       0.1         -\n",
       "tensão de contato AGMA (𝜎H): [MPa]                    618.29         -\n",
       "fator de ciclagem de tensão para resistência ao...      0.88         -\n",
       "fator de razão de dureza para resistência ao cr...         1         -\n",
       "fator de temperatura (Y0):                                 1         -\n",
       "fator de confiabilidade (YZ):                            1.0         -\n",
       "dureza Brinell selecionada (já ajustada): [HB]           229         -\n",
       "número de resistência ao contato permitido (𝜎HB...    708.38        - \n",
       "fator de segurança ao crateramento:                     1.01         -\n",
       "Desenho técnico, apenas do pinhão:                         -         -"
      ]
     },
     "execution_count": 263,
     "metadata": {},
     "output_type": "execute_result"
    }
   ],
   "source": [
    "df_transposed"
   ]
  },
  {
   "cell_type": "code",
   "execution_count": 265,
   "metadata": {},
   "outputs": [],
   "source": [
    "#df_transposed.to_excel('calculos.xlsx')"
   ]
  }
 ],
 "metadata": {
  "interpreter": {
   "hash": "345b6144113f7c80acc8a12c8c192446b7c2a491cb28a453563d65a82f6ad31d"
  },
  "kernelspec": {
   "display_name": "Python 3.8.8 64-bit ('base': conda)",
   "name": "python3"
  },
  "language_info": {
   "codemirror_mode": {
    "name": "ipython",
    "version": 3
   },
   "file_extension": ".py",
   "mimetype": "text/x-python",
   "name": "python",
   "nbconvert_exporter": "python",
   "pygments_lexer": "ipython3",
   "version": "3.8.8"
  }
 },
 "nbformat": 4,
 "nbformat_minor": 2
}
