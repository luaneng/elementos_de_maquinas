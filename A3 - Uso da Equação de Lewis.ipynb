{
 "cells": [
  {
   "cell_type": "code",
   "execution_count": 31,
   "source": [
    "from numpy import cos, radians, pi, sqrt, interp\r\n",
    "import pandas as pd"
   ],
   "outputs": [],
   "metadata": {}
  },
  {
   "cell_type": "markdown",
   "source": [
    "Um pinhão cilíndrico de dentes retos, usinado, disponível em estoque possui um módulo de 4 mm, uma largura da face de 48 mm, número de dentes do pinhão NP= 18, número de dentes da coroa NG = 54, e ângulo de contato 20° com dentes de profundidade completa. O material utilizado é aço AISI 1020, na condição de laminado Sy = 330 MPa e Sut = 450 MPa. Empregue um fator de segurança de 3,5 e considere uma rotação do pinhão de 1 500 rpm em aplicações moderadas. Nesse cenário:\r\n",
    "\r\n",
    "Qual é a tensão máxima admissível que o cordão raiz pode aceitar [σmax em MPa]:\r\n",
    "Qual é o cordão raiz recomendado e a relação de engrenamento i:\r\n",
    "Qual é o diâmetro primitivo e diâmetro base do pinhão\r\n",
    "Qual é a sua velocidade linear em m/s:\r\n",
    "Qual é seu fator de velocidade:\r\n",
    "Qual é o fator de forma:\r\n",
    "Qual é a carga tangencial em N:\r\n",
    "Qual é a potência de saída do pinhão em W:\r\n",
    "Qual é o torque do pinhão em N-m:\r\n",
    "Considere que a coroa em relação ao pinhão tem uma perda de 8% de eficiência mecânica:\r\n",
    "\r\n",
    "Qual é o diâmetro primitivo e diâmetro base da coroa [mm]:\r\n",
    "Qual é a distância entre centros das engrenagens [mm]:\r\n",
    "Qual é a rotação da coroa [rpm]:\r\n",
    "Qual é a potência da coroa [W]:\r\n",
    "Qual é o torque da coroa [N.m]:"
   ],
   "metadata": {}
  },
  {
   "cell_type": "markdown",
   "source": [
    "Informações"
   ],
   "metadata": {}
  },
  {
   "cell_type": "code",
   "execution_count": 32,
   "source": [
    "m = 4\r\n",
    "Np= 18\r\n",
    "Ng = 54\r\n",
    "theta = 20          \r\n",
    "ωp = 1500 \r\n",
    "sy = 330   #MPa\r\n",
    "n = 3.5\r\n",
    "η = 8   #%\r\n"
   ],
   "outputs": [],
   "metadata": {}
  },
  {
   "cell_type": "markdown",
   "source": [
    "Parametros construtivos pinhão"
   ],
   "metadata": {}
  },
  {
   "cell_type": "code",
   "execution_count": 33,
   "source": [
    "ft = 3.12                           #tabelado em função do número de dentes\r\n",
    "ft1 = 1.69                          #tabelado em função do número de dentes\r\n",
    "r = ft*m\r\n",
    "r1 = ft1*m"
   ],
   "outputs": [],
   "metadata": {}
  },
  {
   "cell_type": "markdown",
   "source": [
    "Pinhão"
   ],
   "metadata": {}
  },
  {
   "cell_type": "code",
   "execution_count": 34,
   "source": [
    "dep = m*( Np + 2 )                  #d_externo\r\n",
    "drp = m*( Np - 2.5 )                #d_raiz\r\n",
    "dpp = m*Np                          #d_primitivo     \r\n",
    "dbp = cos(radians(theta))*dpp       #d_base\r\n",
    "Vp = (pi*ωp/30)*(dpp/2000)          #velocidade linear\r\n",
    "kvp = (3.56 + sqrt(Vp))/3.56        #fator de velocidade\r\n"
   ],
   "outputs": [],
   "metadata": {}
  },
  {
   "cell_type": "markdown",
   "source": [
    "Coroa"
   ],
   "metadata": {}
  },
  {
   "cell_type": "code",
   "execution_count": 35,
   "source": [
    "dpg = Ng*m                          #d_primitivo \r\n",
    "deg = m*( Ng + 2 )                  #d_externo\r\n",
    "drg = m*( Ng - 2.5 )                #d_raiz\r\n",
    "dpg = m*Ng                          #d_primitivo     \r\n",
    "dbg = cos(radians(theta))*dpg       #d_base\r\n",
    "Vg = (pi*ωp/30)*(dpg/2000)          #velocidade linear\r\n",
    "kvg = (3.56 + sqrt(Vg))/3.56        #fator de velocidade"
   ],
   "outputs": [],
   "metadata": {}
  },
  {
   "cell_type": "markdown",
   "source": [
    "Relações"
   ],
   "metadata": {}
  },
  {
   "cell_type": "code",
   "execution_count": 36,
   "source": [
    "p = m*pi                           #passo circular\r\n",
    "e = p/2                            #espessura do dente\r\n",
    "r = 0.3*m                          #raio do filete \r\n",
    "i = Ng/Np                          #relação de engrenamento\r\n",
    "b = 12*m                           #largura da face 6 a 16*m  \r\n",
    "f = 0.3*m                          #cordão raiz do dente (ou raio do filete)\r\n",
    "C = ( dpp + dpg )/2                #Distancia entre centros "
   ],
   "outputs": [],
   "metadata": {}
  },
  {
   "cell_type": "markdown",
   "source": [
    "Fator de forma"
   ],
   "metadata": {}
  },
  {
   "cell_type": "code",
   "execution_count": 37,
   "source": [
    "def Y(N):\r\n",
    "    N_l = [12, 13, 14, 15, 16, 17, 18, 19, 20, 21, 22, 24, 26, 28, 30, 34, 38, 43, 50, 60, 75, 100, 150, 300, 400]\r\n",
    "    Y_l = [0.2450, 0.2610, 0.2770, 0.2900, 0.2960, 0.3030, 0.3090, 0.3140, 0.3220, 0.3280, 0.3310, 0.3370, 0.3460, 0.3530, 0.3590, 0.3710, 0.3840, 0.3970, 0.4090, 0.4220, 0.4350, 0.4470, 0.4600, 0.4720, 0.4800]\r\n",
    "    return interp(N, N_l, Y_l)"
   ],
   "outputs": [],
   "metadata": {}
  },
  {
   "cell_type": "markdown",
   "source": [
    "Torque e potencia"
   ],
   "metadata": {}
  },
  {
   "cell_type": "code",
   "execution_count": 51,
   "source": [
    "σmax = sy/n\r\n",
    "wtp = ( sy*b*m*Y(Np) ) / ( n*kvp )\r\n",
    "Pp = wtp*Vp\r\n",
    "Tp = wtp*(dpp/2000)\r\n",
    "ωg = ωp/i\r\n",
    "wtg = ( sy*b*m*Y(Ng) ) / ( n*kvg )\r\n",
    "Tg = i*Tp\r\n",
    "Pg = ( Tg * ωg )*(100 - η)/ ( 100 * 9.55 )\r\n",
    "\r\n"
   ],
   "outputs": [],
   "metadata": {}
  },
  {
   "cell_type": "code",
   "execution_count": 52,
   "source": [
    "data = {\r\n",
    "'': ['Pinhão', 'Coroa'],\r\n",
    "'Diâmetro externo [mm]:': [round(dep, 2) , round(deg, 2)],\r\n",
    "'Diâmetro raiz [mm]:': [round(drp, 2) , round(drg, 2)],\r\n",
    "'Diâmetro primitivo [mm]:': [round(dpp, 2) , round(dpg, 2)],\r\n",
    "'Diâmetro base [mm]:': [round(dbp, 2) , round(dbg, 2)],\r\n",
    "'Cordão raiz do dente [mm]:': [round(f, 2) , round(f, 2)] ,\r\n",
    "'Velocidade linear em [m/s]:': [round(Vp, 2) , round(Vg, 2)] ,\r\n",
    "'Largura da face nominal [mm]:': [round(b, 2) , round(b, 2)],\r\n",
    "'Relação de engrenamento (i):': [round(i, 2) , round(i, 2)],\r\n",
    "'Distância entre centros das engrenagens [mm]:': [round(C, 2) , round(C, 2)],\r\n",
    "'Passo circular:': [round(p, 2) , round(p, 2)],\r\n",
    "'Espessura do dente [mm]:': [round(e, 2) , round(e, 2)],\r\n",
    "'Tensão máxima admissível [MPa]:': [round(σmax, 2) , round(σmax, 2)],\r\n",
    "'Fator de velocidade:': [round(kvp, 3) , round(kvg, 3)],\r\n",
    "'Fator de forma:': [round(Y(Np), 3) , round(Y(Ng), 3)],\r\n",
    "'Carga tangencial [N]:': [round(wtp, 2) , round(wtg, 2)],\r\n",
    "'Potencia [W]:': [round(Pp, 2) , round(Pg, 2)],\r\n",
    "'Torque [N/m]:': [round(Tp, 2) , round(Tg, 2)],\r\n",
    "'Rotação [rpm]: ': [round(ωp ,2) , round(ωg, 2)]\r\n",
    "}"
   ],
   "outputs": [],
   "metadata": {}
  },
  {
   "cell_type": "code",
   "execution_count": 53,
   "source": [
    "df = pd.DataFrame(data)"
   ],
   "outputs": [],
   "metadata": {}
  },
  {
   "cell_type": "code",
   "execution_count": 54,
   "source": [
    "display(df)"
   ],
   "outputs": [
    {
     "output_type": "display_data",
     "data": {
      "text/html": [
       "<div>\n",
       "<style scoped>\n",
       "    .dataframe tbody tr th:only-of-type {\n",
       "        vertical-align: middle;\n",
       "    }\n",
       "\n",
       "    .dataframe tbody tr th {\n",
       "        vertical-align: top;\n",
       "    }\n",
       "\n",
       "    .dataframe thead th {\n",
       "        text-align: right;\n",
       "    }\n",
       "</style>\n",
       "<table border=\"1\" class=\"dataframe\">\n",
       "  <thead>\n",
       "    <tr style=\"text-align: right;\">\n",
       "      <th></th>\n",
       "      <th></th>\n",
       "      <th>Diâmetro externo [mm]:</th>\n",
       "      <th>Diâmetro raiz [mm]:</th>\n",
       "      <th>Diâmetro primitivo [mm]:</th>\n",
       "      <th>Diâmetro base [mm]:</th>\n",
       "      <th>Cordão raiz do dente [mm]:</th>\n",
       "      <th>Velocidade linear em [m/s]:</th>\n",
       "      <th>Largura da face nominal [mm]:</th>\n",
       "      <th>Relação de engrenamento (i):</th>\n",
       "      <th>Distância entre centros das engrenagens [mm]:</th>\n",
       "      <th>Passo circular:</th>\n",
       "      <th>Espessura do dente [mm]:</th>\n",
       "      <th>Tensão máxima admissível [MPa]:</th>\n",
       "      <th>Fator de velocidade:</th>\n",
       "      <th>Fator de forma:</th>\n",
       "      <th>Carga tangencial [N]:</th>\n",
       "      <th>Potencia [W]:</th>\n",
       "      <th>Torque [N/m]:</th>\n",
       "      <th>Rotação [rpm]:</th>\n",
       "    </tr>\n",
       "  </thead>\n",
       "  <tbody>\n",
       "    <tr>\n",
       "      <th>0</th>\n",
       "      <td>Pinhão</td>\n",
       "      <td>80</td>\n",
       "      <td>62.0</td>\n",
       "      <td>72</td>\n",
       "      <td>67.66</td>\n",
       "      <td>1.2</td>\n",
       "      <td>5.65</td>\n",
       "      <td>48</td>\n",
       "      <td>3.0</td>\n",
       "      <td>144.0</td>\n",
       "      <td>12.57</td>\n",
       "      <td>6.28</td>\n",
       "      <td>94.29</td>\n",
       "      <td>1.668</td>\n",
       "      <td>0.309</td>\n",
       "      <td>3353.63</td>\n",
       "      <td>18964.35</td>\n",
       "      <td>120.73</td>\n",
       "      <td>1500.0</td>\n",
       "    </tr>\n",
       "    <tr>\n",
       "      <th>1</th>\n",
       "      <td>Coroa</td>\n",
       "      <td>224</td>\n",
       "      <td>206.0</td>\n",
       "      <td>216</td>\n",
       "      <td>202.97</td>\n",
       "      <td>1.2</td>\n",
       "      <td>16.96</td>\n",
       "      <td>48</td>\n",
       "      <td>3.0</td>\n",
       "      <td>144.0</td>\n",
       "      <td>12.57</td>\n",
       "      <td>6.28</td>\n",
       "      <td>94.29</td>\n",
       "      <td>2.157</td>\n",
       "      <td>0.414</td>\n",
       "      <td>3476.27</td>\n",
       "      <td>17445.92</td>\n",
       "      <td>362.19</td>\n",
       "      <td>500.0</td>\n",
       "    </tr>\n",
       "  </tbody>\n",
       "</table>\n",
       "</div>"
      ],
      "text/plain": [
       "           Diâmetro externo [mm]:  Diâmetro raiz [mm]:  \\\n",
       "0  Pinhão                      80                 62.0   \n",
       "1   Coroa                     224                206.0   \n",
       "\n",
       "   Diâmetro primitivo [mm]:  Diâmetro base [mm]:  Cordão raiz do dente [mm]:  \\\n",
       "0                        72                67.66                         1.2   \n",
       "1                       216               202.97                         1.2   \n",
       "\n",
       "   Velocidade linear em [m/s]:  Largura da face nominal [mm]:  \\\n",
       "0                         5.65                             48   \n",
       "1                        16.96                             48   \n",
       "\n",
       "   Relação de engrenamento (i):  \\\n",
       "0                           3.0   \n",
       "1                           3.0   \n",
       "\n",
       "   Distância entre centros das engrenagens [mm]:  Passo circular:  \\\n",
       "0                                          144.0            12.57   \n",
       "1                                          144.0            12.57   \n",
       "\n",
       "   Espessura do dente [mm]:  Tensão máxima admissível [MPa]:  \\\n",
       "0                      6.28                            94.29   \n",
       "1                      6.28                            94.29   \n",
       "\n",
       "   Fator de velocidade:  Fator de forma:  Carga tangencial [N]:  \\\n",
       "0                 1.668            0.309                3353.63   \n",
       "1                 2.157            0.414                3476.27   \n",
       "\n",
       "   Potencia [W]:  Torque [N/m]:  Rotação [rpm]:   \n",
       "0       18964.35         120.73           1500.0  \n",
       "1       17445.92         362.19            500.0  "
      ]
     },
     "metadata": {}
    }
   ],
   "metadata": {}
  }
 ],
 "metadata": {
  "orig_nbformat": 4,
  "language_info": {
   "name": "python",
   "version": "3.8.8",
   "mimetype": "text/x-python",
   "codemirror_mode": {
    "name": "ipython",
    "version": 3
   },
   "pygments_lexer": "ipython3",
   "nbconvert_exporter": "python",
   "file_extension": ".py"
  },
  "kernelspec": {
   "name": "python3",
   "display_name": "Python 3.8.8 64-bit ('base': conda)"
  },
  "interpreter": {
   "hash": "345b6144113f7c80acc8a12c8c192446b7c2a491cb28a453563d65a82f6ad31d"
  }
 },
 "nbformat": 4,
 "nbformat_minor": 2
}