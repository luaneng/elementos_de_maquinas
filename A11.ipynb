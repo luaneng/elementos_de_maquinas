{
 "cells": [
  {
   "cell_type": "markdown",
   "id": "8c773bea",
   "metadata": {},
   "source": [
    "$$ {Aluno: Luan \\:Henrique \\:de\\: Oliveira \\: \\: \\: \\: \\: \\: \\:\n",
    "RA: 2049422} $$\n",
    "$$ Elementos \\:de \\:Máquina \\:1\\:-\\:EM47A $$"
   ]
  },
  {
   "cell_type": "markdown",
   "id": "04f99917",
   "metadata": {},
   "source": [
    "Precisa-se projetar o sistema de transmissão, usando correia em V seção C, de um elevador de canecas que é acionado por um motor elétrico, com partida leve. No eixo do motor elétrico há uma potência de saída de 37 kW e uma rotação de 1 160 rpm, para projetar a polia motriz. A polia movida do rolo (tambor) de transmissão das canecas deve ter uma rotação próxima de 675 rpm. Dito equipamento deve trabalhar 12 h/dia."
   ]
  },
  {
   "cell_type": "markdown",
   "id": "044f22db",
   "metadata": {},
   "source": [
    "$$ Correia \\: em \\: V \\: -\\: Seção \\: C$$\n",
    "$$ P_{mot} = 37 \\: kW$$\n",
    "$$ \\omega_{mot} = \\: 1160 \\: rpm $$\n",
    "$$ \\omega_{mov} \\approx \\: 675 \\: rpm$$\n",
    "$$t_{trab} = \\:12 \\: h/dia$$"
   ]
  },
  {
   "cell_type": "markdown",
   "id": "fef6670e",
   "metadata": {},
   "source": [
    "# ![markdown](img/fs.png)"
   ]
  },
  {
   "cell_type": "code",
   "execution_count": 127,
   "id": "7e4be5d0",
   "metadata": {},
   "outputs": [],
   "source": [
    "P_mot = 37      #kW\n",
    "𝜔_mot = 1160    #rpm \n",
    "𝜔_mov_p = 675   #rpm\n",
    "t_trab = 12     #h/dia\n",
    "fs = 1.3"
   ]
  },
  {
   "cell_type": "code",
   "execution_count": 128,
   "id": "c029a227",
   "metadata": {},
   "outputs": [],
   "source": [
    "Pd = P_mot*fs"
   ]
  },
  {
   "cell_type": "code",
   "execution_count": 129,
   "id": "b3d6bc7d",
   "metadata": {},
   "outputs": [],
   "source": [
    "from numpy import pi, sqrt, interp, radians, ceil, arcsin"
   ]
  },
  {
   "cell_type": "markdown",
   "id": "1cff4bf3",
   "metadata": {},
   "source": [
    "# Encontre os diâmetros da polia Motriz e Acionada, de preferência veja se tem como serem iguais aos diâmetros da seção 5V selecionadas no exercício do vídeo. Cite a fonte para encontrar os diâmetros (se foi o SolidEdge, um catálogo ou outra fonte)."
   ]
  },
  {
   "cell_type": "code",
   "execution_count": 130,
   "id": "03d59e70",
   "metadata": {},
   "outputs": [],
   "source": [
    "T_mot = round(P_mot*1000*9.55/𝜔_mot, 4)"
   ]
  },
  {
   "cell_type": "code",
   "execution_count": 131,
   "id": "46b9b787",
   "metadata": {},
   "outputs": [],
   "source": [
    "i_p = round(𝜔_mot/𝜔_mov_p, 4)\n",
    "V_nomin_p = 20    #m/s"
   ]
  },
  {
   "cell_type": "code",
   "execution_count": 132,
   "id": "c0385bea",
   "metadata": {},
   "outputs": [
    {
     "data": {
      "text/plain": [
       "(565.8782, 329.2861)"
      ]
     },
     "execution_count": 132,
     "metadata": {},
     "output_type": "execute_result"
    }
   ],
   "source": [
    "d_mot_p = round(V_nomin_p*1000/(pi*(𝜔_mot/60) ), 4)\n",
    "d_mov_p = round(i_p*d_mot_p, 4)\n",
    "d_mov_p, d_mot_p"
   ]
  },
  {
   "cell_type": "markdown",
   "id": "31231f48",
   "metadata": {},
   "source": [
    "$$D_{mot_p}= \\:329,2861\\:mm$$\n",
    "$$D_{mov_p}= \\:565,8782\\:mm$$\n",
    "$$D_{mot}= \\:315\\:mm$$\n",
    "$$D_{mov}= \\:530\\:mm$$\n",
    "$$Fonte: \\: SolidEdge$$"
   ]
  },
  {
   "cell_type": "markdown",
   "id": "752ad808",
   "metadata": {},
   "source": [
    "# Para as polias selecionadas, qual é a distância entre centros, C, e o comprimento da correia, L. Considere Cp = 650 mm"
   ]
  },
  {
   "cell_type": "code",
   "execution_count": 133,
   "id": "aea97a0e",
   "metadata": {},
   "outputs": [],
   "source": [
    "D_mot = 315   #mm\n",
    "D_mov = 530   #mm\n",
    "Cp = 650      #mm"
   ]
  },
  {
   "cell_type": "code",
   "execution_count": 134,
   "id": "ea2a75a0",
   "metadata": {},
   "outputs": [
    {
     "data": {
      "text/plain": [
       "2644.4288"
      ]
     },
     "execution_count": 134,
     "metadata": {},
     "output_type": "execute_result"
    }
   ],
   "source": [
    "Lp = round(2*Cp + 1.57*(D_mov + D_mot) + ( ((D_mov - D_mot)**2) / (4*Cp) ), 4)\n",
    "Lp"
   ]
  },
  {
   "cell_type": "markdown",
   "id": "d532e9cd",
   "metadata": {},
   "source": [
    "$$L_{p}= \\: 2644,4288\\:mm$$\n",
    "$$ SKF - PHG \\: 5V1060$$\n",
    "$$L= \\: 2692 \\: mm$$"
   ]
  },
  {
   "cell_type": "code",
   "execution_count": 135,
   "id": "82f92991",
   "metadata": {},
   "outputs": [],
   "source": [
    "L = 2692 #mm"
   ]
  },
  {
   "cell_type": "code",
   "execution_count": 136,
   "id": "740027c5",
   "metadata": {},
   "outputs": [
    {
     "data": {
      "text/plain": [
       "(674.1034, 5461.4)"
      ]
     },
     "execution_count": 136,
     "metadata": {},
     "output_type": "execute_result"
    }
   ],
   "source": [
    "B = round(4*L - 6.28*(D_mov + D_mot), 4)\n",
    "C = round((B + sqrt((B**2) - 32*(D_mov - D_mot)**2))/16, 4)\n",
    "C, B"
   ]
  },
  {
   "cell_type": "markdown",
   "id": "5a183b29",
   "metadata": {},
   "source": [
    "$$C=\\:674,1034\\:mm$$"
   ]
  },
  {
   "cell_type": "markdown",
   "id": "32c2237d",
   "metadata": {},
   "source": [
    "# Para a correia seção C selecionada, qual é a potência unitário, Pu, potência de acréscimo, Pa, e potência básica, Pb:"
   ]
  },
  {
   "cell_type": "code",
   "execution_count": 137,
   "id": "a9c3b5b9",
   "metadata": {},
   "outputs": [
    {
     "data": {
      "text/plain": [
       "1.7185"
      ]
     },
     "execution_count": 137,
     "metadata": {},
     "output_type": "execute_result"
    }
   ],
   "source": [
    "i = round(𝜔_mot/𝜔_mov_p, 4) #índice de velocidade\n",
    "i"
   ]
  },
  {
   "cell_type": "markdown",
   "id": "b7fa52ba",
   "metadata": {},
   "source": [
    "# ![markdown](img/p_uni_acre.png) "
   ]
  },
  {
   "cell_type": "code",
   "execution_count": 138,
   "id": "c93d9ae3",
   "metadata": {},
   "outputs": [],
   "source": [
    "def Pu(var):\n",
    "    x = [1000, 1100, 1200, 1300]\n",
    "    y = [17.74, 19.12, 20.42, 21.24]\n",
    "    return round(interp(var, x, y), 4)\n",
    "\n",
    "def Pa(var):\n",
    "    x = [1000, 1100, 1200, 1300]\n",
    "    y = [0.5, 0.55, 0.6, 0.65]\n",
    "    return round(interp(var, x, y), 4)"
   ]
  },
  {
   "cell_type": "code",
   "execution_count": 139,
   "id": "c44f9bef",
   "metadata": {},
   "outputs": [
    {
     "data": {
      "text/plain": [
       "(19.9, 0.58, 20.48)"
      ]
     },
     "execution_count": 139,
     "metadata": {},
     "output_type": "execute_result"
    }
   ],
   "source": [
    "P_u, P_a, P_b = Pu(𝜔_mot), Pa(𝜔_mot), round(Pu(𝜔_mot) + Pa(𝜔_mot), 4)\n",
    "P_u, P_a, P_b"
   ]
  },
  {
   "cell_type": "markdown",
   "id": "e796d496",
   "metadata": {},
   "source": [
    "$$P_{u} = \\: 19,9 \\: kW $$\n",
    "$$P_{a} = \\: 0,58 \\: kW $$\n",
    "$$P_{b} = \\: 20,48 \\: kW $$"
   ]
  },
  {
   "cell_type": "markdown",
   "id": "8545a18d",
   "metadata": {},
   "source": [
    "# Para o sistema projetado, qual é ângulo de envolvimento da correia na polia motriz, ϴd, esse ângulo está dentro das recomendações da literatura?"
   ]
  },
  {
   "cell_type": "code",
   "execution_count": 140,
   "id": "e33b2f1e",
   "metadata": {},
   "outputs": [
    {
     "data": {
      "text/plain": [
       "161.6476"
      ]
     },
     "execution_count": 140,
     "metadata": {},
     "output_type": "execute_result"
    }
   ],
   "source": [
    "ϴd = round(180 - 2*(180/pi) * arcsin(  ( (D_mov-D_mot)/(2*C) ) ), 4)\n",
    "ϴd"
   ]
  },
  {
   "cell_type": "markdown",
   "id": "ac0b0d3f",
   "metadata": {},
   "source": [
    "$$ 120º \\leq \\theta_{d} < 180^º $$\n",
    "$$\\theta_{d} = 161,6476^º$$"
   ]
  },
  {
   "cell_type": "markdown",
   "id": "41f2dacb",
   "metadata": {},
   "source": [
    "# Quais são os fatores de correção Cϴ e de comprimento, CL."
   ]
  },
  {
   "cell_type": "markdown",
   "id": "edb477c5",
   "metadata": {},
   "source": [
    "# ![markdown](img/fc_ang.png)"
   ]
  },
  {
   "cell_type": "markdown",
   "id": "9a760c1a",
   "metadata": {},
   "source": [
    "$$ C_{\\theta} \\approx \\: 0,95 $$"
   ]
  },
  {
   "cell_type": "markdown",
   "id": "0dee2c57",
   "metadata": {},
   "source": [
    "# ![markdown](img/fc_comp.png)"
   ]
  },
  {
   "cell_type": "code",
   "execution_count": 141,
   "id": "af127522",
   "metadata": {},
   "outputs": [],
   "source": [
    "def CL(var):\n",
    "    x = [2240, 2500, 2800, 3150]\n",
    "    y = [0.92, 0.94, 0.96, 0.98]\n",
    "    return round(interp(var, x, y), 4)"
   ]
  },
  {
   "cell_type": "code",
   "execution_count": null,
   "id": "7365c0f9",
   "metadata": {},
   "outputs": [],
   "source": [
    "Cϴ = 0.95\n",
    "C_L = CL(L)\n",
    "C_L, Cϴ"
   ]
  },
  {
   "cell_type": "markdown",
   "id": "e4771e33",
   "metadata": {},
   "source": [
    "$$C_{L}=\\:0,9528$$"
   ]
  },
  {
   "cell_type": "markdown",
   "id": "36a891bf",
   "metadata": {},
   "source": [
    "# Qual é a potência corrigida, Pr."
   ]
  },
  {
   "cell_type": "code",
   "execution_count": null,
   "id": "c00656a2",
   "metadata": {},
   "outputs": [],
   "source": [
    "Pr = round(P_b*Cϴ*C_L, 4)\n",
    "Pr"
   ]
  },
  {
   "cell_type": "markdown",
   "id": "555cf074",
   "metadata": {},
   "source": [
    "$$ P_{r}=18,5377 \\: kW $$"
   ]
  },
  {
   "cell_type": "code",
   "execution_count": null,
   "id": "533245d8",
   "metadata": {},
   "outputs": [],
   "source": [
    "N_correias = ceil(Pd/Pr)\n",
    "N_correias"
   ]
  },
  {
   "cell_type": "markdown",
   "id": "56b31ed6",
   "metadata": {},
   "source": [
    "$$N_{correias} = \\: 3 $$"
   ]
  },
  {
   "cell_type": "markdown",
   "id": "354c9531",
   "metadata": {},
   "source": [
    "# Cite as fontes que usou. Qual é o código da correia que selecionou. Qual é a largura da(s) coreia(s) que selecionou. Comparando a correia que acabou de selecionar com a 3/5V1060, e 2100-14M-115, quais são as vantagens e desvantagens."
   ]
  },
  {
   "cell_type": "markdown",
   "id": "07777e4c",
   "metadata": {},
   "source": [
    "$$ Correia \\: Selecionada: \\: SKF - PHG \\: 5V1060X3$$\n",
    "Fonte: \\: <https://www.skf.com/binaries/pub45/Images/0901d19680389938-SKFPTPCatalogue_20140909_CompleteCatalogue_PT_BR_LowRes_tcm_45-576542.pdf> Pg 31"
   ]
  },
  {
   "cell_type": "markdown",
   "id": "39208e82",
   "metadata": {},
   "source": [
    "# ![mardown](img/catalogo.png)"
   ]
  },
  {
   "cell_type": "markdown",
   "id": "1b659254",
   "metadata": {},
   "source": [
    "# ![markdown](img/dim_correia.png)"
   ]
  },
  {
   "cell_type": "markdown",
   "id": "af7148fc",
   "metadata": {},
   "source": [
    "$$Largura: \\: 45 \\: mm$$"
   ]
  },
  {
   "cell_type": "markdown",
   "id": "31c3c815",
   "metadata": {},
   "source": [
    "Foi utilizado o catálogo da fabricante SKF e a correia selecionado foi a 𝑃𝐻𝐺5𝑉1060𝑋3 que possui uma largura total de 45mm, diferente da 3/5V1060 que possui uma largura de 47,625mm, devido a isto, em problemas onde a utilização do espaço é limitada a correia da SKF é mais vantajosa, já o comprimento é o mesmo em ambas. A correia 2100-14M-115 é uma correia dentada, mais recomendada para polias com diâmetros pequenos, que não é o caso do exercício proposto."
   ]
  },
  {
   "cell_type": "markdown",
   "id": "16818e34",
   "metadata": {},
   "source": [
    "# Faça um rápido orçamento das correias 3/5V1060, 2100-14M-115 e a correia seção C que selecionou. Quais são os preços?"
   ]
  },
  {
   "cell_type": "markdown",
   "id": "99f9d104",
   "metadata": {},
   "source": [
    "2100-14M-115 - https://www.motionindustries.com/products/sku/04630603\n",
    "Valor unitário: 743.61 Dólares = 4174,33 Reais"
   ]
  },
  {
   "cell_type": "markdown",
   "id": "57d0e1c9",
   "metadata": {},
   "source": [
    "# ![markdown](img/orc1.png)"
   ]
  },
  {
   "cell_type": "markdown",
   "id": "44d0bbde",
   "metadata": {},
   "source": [
    "3/5V1060 - https://www.motionindustries.com/products/sku/00740943\n",
    "Valor unitário: 418.24 Dólares  =  2.347,83 Reais"
   ]
  },
  {
   "cell_type": "markdown",
   "id": "8559ecf8",
   "metadata": {},
   "source": [
    "# ![markdown](img/orc2.png)"
   ]
  },
  {
   "cell_type": "markdown",
   "id": "05f29182",
   "metadata": {},
   "source": [
    "# ![markdown](img/orc3.png)"
   ]
  },
  {
   "cell_type": "markdown",
   "id": "0a2bcefb",
   "metadata": {},
   "source": [
    "# Em função dos comparativos entre correias 14M, 5V e C qual escolheria para esse projeto e porque?"
   ]
  },
  {
   "cell_type": "markdown",
   "id": "848fe741",
   "metadata": {},
   "source": [
    "Escolheria a 3/5V1060 devido a disponibilidade no mercado, menores preços, e encaixar melhor no projeto, uma vez que a 2100-14M-115 é uma correia dentada."
   ]
  },
  {
   "cell_type": "markdown",
   "id": "482fd6fe",
   "metadata": {},
   "source": [
    "Código disponivel em <https://github.com/luanzzxx/elementos_de_maquinas.git>"
   ]
  }
 ],
 "metadata": {
  "kernelspec": {
   "display_name": "Python 3",
   "language": "python",
   "name": "python3"
  },
  "language_info": {
   "codemirror_mode": {
    "name": "ipython",
    "version": 3
   },
   "file_extension": ".py",
   "mimetype": "text/x-python",
   "name": "python",
   "nbconvert_exporter": "python",
   "pygments_lexer": "ipython3",
   "version": "3.8.8"
  }
 },
 "nbformat": 4,
 "nbformat_minor": 5
}
