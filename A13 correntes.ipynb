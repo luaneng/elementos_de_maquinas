{
 "cells": [
  {
   "cell_type": "markdown",
   "id": "8d74c5a5",
   "metadata": {},
   "source": [
    "$$ {Aluno: Luan \\:Henrique \\:de\\: Oliveira \\: \\: \\: \\: \\: \\: \\:\n",
    "RA: 2049422} $$\n",
    "$$ Elementos \\:de \\:Máquina \\:1\\:-\\:EM47A $$"
   ]
  },
  {
   "cell_type": "markdown",
   "id": "9f759afa",
   "metadata": {},
   "source": [
    "Código disponivel em: <https://github.com/luanzzxx/elementos_de_maquinas.git>"
   ]
  },
  {
   "cell_type": "markdown",
   "id": "2006d913",
   "metadata": {},
   "source": [
    "No vídeo, o exercício foi resolvido selecionando uma corrente usando a norma ISO B606 o que levou a encontrar uma roda dentada motriz de 21 dentes."
   ]
  },
  {
   "cell_type": "markdown",
   "id": "8071a4fe",
   "metadata": {},
   "source": [
    "No caso de usar a norma ANSI para esse mesmo exercício qual seria o número de dentes da roda dentada motriz;"
   ]
  },
  {
   "cell_type": "markdown",
   "id": "c82615f4",
   "metadata": {},
   "source": [
    "$$ \\omega_{1} = 900 \\: rpm $$\n",
    "$$ \\omega_{p_2} \\approx 235 \\: rpm $$\n",
    "$$ P = 11 \\: kW $$"
   ]
  },
  {
   "cell_type": "code",
   "execution_count": 1,
   "id": "ae55fd6e",
   "metadata": {},
   "outputs": [],
   "source": [
    "𝜔1 = 900  #rpm\n",
    "𝜔p2 = 235 #rpm\n",
    "P = 11    #kW"
   ]
  },
  {
   "cell_type": "markdown",
   "id": "12005654",
   "metadata": {},
   "source": [
    "# ![markdown](https://i.ibb.co/NFNMPCJ/Fator-de-projeto-correntes.png)"
   ]
  },
  {
   "cell_type": "code",
   "execution_count": 3,
   "id": "11598b5d",
   "metadata": {},
   "outputs": [],
   "source": [
    "f = 1.4"
   ]
  },
  {
   "cell_type": "code",
   "execution_count": 134,
   "id": "b878aeb9",
   "metadata": {},
   "outputs": [
    {
     "data": {
      "text/plain": [
       "15.4"
      ]
     },
     "execution_count": 134,
     "metadata": {},
     "output_type": "execute_result"
    }
   ],
   "source": [
    "Pd = round(P*f, 4)\n",
    "Pd"
   ]
  },
  {
   "cell_type": "code",
   "execution_count": 135,
   "id": "6fe11af9",
   "metadata": {},
   "outputs": [],
   "source": [
    "ip = round(𝜔1/𝜔p2, 4)"
   ]
  },
  {
   "cell_type": "markdown",
   "id": "b31fe7cb",
   "metadata": {},
   "source": [
    "Catálogo utilizado"
   ]
  },
  {
   "cell_type": "code",
   "execution_count": 19,
   "id": "f4110354",
   "metadata": {},
   "outputs": [
    {
     "data": {
      "text/html": [
       "<iframe src=\"https://www.skfptp.com/Publications/DownloadFile?document=Downloads%2FCatalogues%2FSKF%20Transmission%20chain.pdf\" width=\"950\" height=\"800\"></iframe>\n"
      ],
      "text/plain": [
       "<IPython.core.display.HTML object>"
      ]
     },
     "metadata": {},
     "output_type": "display_data"
    }
   ],
   "source": [
    "%%html\n",
    "<iframe src=\"https://www.skfptp.com/Publications/DownloadFile?document=Downloads%2FCatalogues%2FSKF%20Transmission%20chain.pdf\" width=\"950\" height=\"800\"></iframe>"
   ]
  },
  {
   "cell_type": "code",
   "execution_count": 28,
   "id": "3b5c233b",
   "metadata": {},
   "outputs": [],
   "source": [
    "import numpy as np"
   ]
  },
  {
   "cell_type": "markdown",
   "id": "4d888125",
   "metadata": {},
   "source": [
    "Catálogo - Pg 23 Tab10e "
   ]
  },
  {
   "cell_type": "code",
   "execution_count": 49,
   "id": "bf270e01",
   "metadata": {},
   "outputs": [],
   "source": [
    "def Ptab(rot):\n",
    "    y = [7.52, 9.32, 14.64, 18.13, 16.99, 13.48]\n",
    "    x = [400, 600, 800, 1000, 1200, 1400]\n",
    "    return round(np.interp(rot, x, y), 4)"
   ]
  },
  {
   "cell_type": "code",
   "execution_count": 50,
   "id": "681e94d1",
   "metadata": {},
   "outputs": [
    {
     "data": {
      "text/plain": [
       "16.385"
      ]
     },
     "execution_count": 50,
     "metadata": {},
     "output_type": "execute_result"
    }
   ],
   "source": [
    "Ptab(rot = 900)"
   ]
  },
  {
   "cell_type": "markdown",
   "id": "fb16976c",
   "metadata": {},
   "source": [
    "$$ P_{tabela}>P_{d} \\: \\: \\: \\therefore \\: \\: \\: A \\: corrente \\: 60-1 \\: (12A-1)  \\: atende \\: as \\: especificações $$"
   ]
  },
  {
   "cell_type": "code",
   "execution_count": 106,
   "id": "1407ea88",
   "metadata": {},
   "outputs": [],
   "source": [
    "p = 19.05  #mm\n",
    "Nmot = 17"
   ]
  },
  {
   "cell_type": "code",
   "execution_count": 105,
   "id": "d4746c7f",
   "metadata": {},
   "outputs": [],
   "source": [
    "Nmov = round(ip*Nmot)"
   ]
  },
  {
   "cell_type": "code",
   "execution_count": 67,
   "id": "c5ccb989",
   "metadata": {},
   "outputs": [
    {
     "data": {
      "text/plain": [
       "65"
      ]
     },
     "execution_count": 67,
     "metadata": {},
     "output_type": "execute_result"
    }
   ],
   "source": [
    "Nmov"
   ]
  },
  {
   "cell_type": "markdown",
   "id": "5c76648b",
   "metadata": {},
   "source": [
    "$$N_{motriz} = 17 $$\n",
    "$$N_{motora} = 65 $$"
   ]
  },
  {
   "cell_type": "markdown",
   "id": "adbfb227",
   "metadata": {},
   "source": [
    "No exercício foi usada a recomendação de distância de passo Cp = 40.\n",
    "Se for usado um comprimento de passo Cp = 80 qual seria a distância de centros C em mm e o comprimento da corrente em passos L (mm e passo)."
   ]
  },
  {
   "cell_type": "code",
   "execution_count": 87,
   "id": "627833d8",
   "metadata": {},
   "outputs": [],
   "source": [
    "Cp = 80"
   ]
  },
  {
   "cell_type": "code",
   "execution_count": 70,
   "id": "8cae622b",
   "metadata": {},
   "outputs": [],
   "source": [
    "i = round(Nmov/Nmot, 4)"
   ]
  },
  {
   "cell_type": "code",
   "execution_count": 73,
   "id": "1e80e215",
   "metadata": {},
   "outputs": [],
   "source": [
    "𝜔2 = round(𝜔1/i, 4)"
   ]
  },
  {
   "cell_type": "code",
   "execution_count": 74,
   "id": "4be89831",
   "metadata": {},
   "outputs": [
    {
     "data": {
      "text/plain": [
       "235.3864"
      ]
     },
     "execution_count": 74,
     "metadata": {},
     "output_type": "execute_result"
    }
   ],
   "source": [
    "𝜔2"
   ]
  },
  {
   "cell_type": "markdown",
   "id": "0f3eac02",
   "metadata": {},
   "source": [
    "$$ \\omega_{2} = 235,3864 \\: rpm $$"
   ]
  },
  {
   "cell_type": "code",
   "execution_count": 79,
   "id": "b4252b96",
   "metadata": {},
   "outputs": [],
   "source": [
    "def Dp(N):\n",
    "    return round(p/np.sin(np.radians(180/N)), 4)"
   ]
  },
  {
   "cell_type": "code",
   "execution_count": 81,
   "id": "788b4f62",
   "metadata": {},
   "outputs": [],
   "source": [
    "Dpmov, Dpmot = Dp(Nmov), Dp(Nmot)"
   ]
  },
  {
   "cell_type": "code",
   "execution_count": 84,
   "id": "bc0b51bf",
   "metadata": {},
   "outputs": [
    {
     "data": {
      "text/plain": [
       "(103.6737, 394.3007)"
      ]
     },
     "execution_count": 84,
     "metadata": {},
     "output_type": "execute_result"
    }
   ],
   "source": [
    "Dpmot, Dpmov"
   ]
  },
  {
   "cell_type": "code",
   "execution_count": 85,
   "id": "ad2cea2b",
   "metadata": {},
   "outputs": [],
   "source": [
    "def L(C):\n",
    "    return 2*C + ((Nmov + Nmot)/2) + ( ( (Nmov - Nmot)**2 ) /(4*(np.pi**2)*C) )"
   ]
  },
  {
   "cell_type": "code",
   "execution_count": 91,
   "id": "506a1efa",
   "metadata": {},
   "outputs": [
    {
     "data": {
      "text/plain": [
       "202.0"
      ]
     },
     "execution_count": 91,
     "metadata": {},
     "output_type": "execute_result"
    }
   ],
   "source": [
    "Lp = np.ceil(L(C=Cp))\n",
    "Lp"
   ]
  },
  {
   "cell_type": "markdown",
   "id": "e6f7b3a4",
   "metadata": {},
   "source": [
    "$$L=202 \\: passes$$"
   ]
  },
  {
   "cell_type": "code",
   "execution_count": 96,
   "id": "e3336348",
   "metadata": {},
   "outputs": [
    {
     "data": {
      "text/plain": [
       "3848.1"
      ]
     },
     "execution_count": 96,
     "metadata": {},
     "output_type": "execute_result"
    }
   ],
   "source": [
    "L_mm = round(Lp*p, 4)\n",
    "L_mm"
   ]
  },
  {
   "cell_type": "markdown",
   "id": "4d98e710",
   "metadata": {},
   "source": [
    "$$ L = 3848,1 \\: mm$$"
   ]
  },
  {
   "cell_type": "code",
   "execution_count": 122,
   "id": "332906a1",
   "metadata": {},
   "outputs": [],
   "source": [
    "def C(L):\n",
    "    return  (1/4)*( L - ((Nmov + Nmot)/2) + np.sqrt( ((L - (Nmov + Nmot)/2)**2) - 8*((Nmov - Nmot)/(2*np.pi))**2 ) )"
   ]
  },
  {
   "cell_type": "code",
   "execution_count": 129,
   "id": "f337e617",
   "metadata": {},
   "outputs": [
    {
     "data": {
      "text/plain": [
       "80.1359"
      ]
     },
     "execution_count": 129,
     "metadata": {},
     "output_type": "execute_result"
    }
   ],
   "source": [
    "C_p = round(C(L=Lp), 4)\n",
    "C_p"
   ]
  },
  {
   "cell_type": "code",
   "execution_count": 130,
   "id": "9615adb4",
   "metadata": {},
   "outputs": [
    {
     "data": {
      "text/plain": [
       "1526.5889"
      ]
     },
     "execution_count": 130,
     "metadata": {},
     "output_type": "execute_result"
    }
   ],
   "source": [
    "Cmm = round(C_p*p, 4)\n",
    "Cmm"
   ]
  },
  {
   "cell_type": "markdown",
   "id": "5c8afd64",
   "metadata": {},
   "source": [
    "$$ C_{passe} = 80,1359 \\: passes$$\n",
    "$$ C_{mm} = 1526,5889 \\: mm$$"
   ]
  }
 ],
 "metadata": {
  "kernelspec": {
   "display_name": "Python 3",
   "language": "python",
   "name": "python3"
  },
  "language_info": {
   "codemirror_mode": {
    "name": "ipython",
    "version": 3
   },
   "file_extension": ".py",
   "mimetype": "text/x-python",
   "name": "python",
   "nbconvert_exporter": "python",
   "pygments_lexer": "ipython3",
   "version": "3.8.8"
  }
 },
 "nbformat": 4,
 "nbformat_minor": 5
}
