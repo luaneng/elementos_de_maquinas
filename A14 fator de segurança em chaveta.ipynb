{
 "cells": [
  {
   "cell_type": "markdown",
   "id": "beb8bb38",
   "metadata": {},
   "source": [
    "Um eixo de diâmetro 38 mm tem um canal de chaveta Woodruff, onde existe um torque de 475 N-m. O material a ser usado na chaveta é um aço AISI 1020 TF com Sy=350MPa.\n",
    "\n",
    "A chaveta woodruff a ser usada tem b=6 e h=7,5(mm). Para encontrar as outras medidas dessa chaveta procure no repositório: https://www.traceparts.com/br/\n",
    "\n",
    "Encontrar: força aplicada na chaveta (carga) - área de cisalhamento - tensão de cisalhamento e fator de segurança."
   ]
  },
  {
   "cell_type": "code",
   "execution_count": 70,
   "id": "ede301af",
   "metadata": {},
   "outputs": [],
   "source": [
    "from pandas import DataFrame\n",
    "from numpy import sqrt"
   ]
  },
  {
   "cell_type": "code",
   "execution_count": 71,
   "id": "c742eab6",
   "metadata": {},
   "outputs": [],
   "source": [
    "sy = 350 #mpa\n",
    "b = 6    #mm\n",
    "h = 7.5  #mm\n",
    "d = 38   #mm\n",
    "T = 475  #N*m"
   ]
  },
  {
   "cell_type": "markdown",
   "id": "1f7b32a4",
   "metadata": {},
   "source": [
    "$$ T = Fr \\rightarrow F = \\frac{T}{D/2} = 25000 \\: N $$"
   ]
  },
  {
   "cell_type": "code",
   "execution_count": 72,
   "id": "d65e7479",
   "metadata": {},
   "outputs": [
    {
     "data": {
      "text/plain": [
       "25000.0"
      ]
     },
     "execution_count": 72,
     "metadata": {},
     "output_type": "execute_result"
    }
   ],
   "source": [
    "F = round(T/(d/2000), 4)   #N\n",
    "F"
   ]
  },
  {
   "cell_type": "markdown",
   "id": "8c094fd2",
   "metadata": {},
   "source": [
    "$$ Utilizando \\: \\: o \\: \\: critério \\: \\: de \\: \\: Von \\: \\: Mises \\: \\: temos: \\: \\: S_{sy} = \\frac{S_{y}}{\\sqrt{3}} = 202,0726 \\: MPa $$"
   ]
  },
  {
   "cell_type": "code",
   "execution_count": 73,
   "id": "fc49cd7a",
   "metadata": {},
   "outputs": [
    {
     "data": {
      "text/plain": [
       "202.0726"
      ]
     },
     "execution_count": 73,
     "metadata": {},
     "output_type": "execute_result"
    }
   ],
   "source": [
    "ssy = round(sy/sqrt(3), 4)   #MPa\n",
    "ssy"
   ]
  },
  {
   "cell_type": "markdown",
   "id": "b13cbb91",
   "metadata": {},
   "source": [
    "# ![markdown](https://i.ibb.co/9H5L9Mn/dim1.png)"
   ]
  },
  {
   "cell_type": "markdown",
   "id": "68af70aa",
   "metadata": {},
   "source": [
    "# ![markdown](https://i.ibb.co/cwnhRhz/dim2.png)"
   ]
  },
  {
   "cell_type": "code",
   "execution_count": 110,
   "id": "9019a478",
   "metadata": {},
   "outputs": [],
   "source": [
    "A = [42.79, 111.45] #mm^2 "
   ]
  },
  {
   "cell_type": "markdown",
   "id": "c63d30e9",
   "metadata": {},
   "source": [
    "$$ \\tau = \\frac{F}{A_{s}} $$"
   ]
  },
  {
   "cell_type": "code",
   "execution_count": 111,
   "id": "ccfb6881",
   "metadata": {},
   "outputs": [],
   "source": [
    "def 𝜏(As):\n",
    "    return round(F/As, 4)   #MPa\n",
    "\n",
    "𝜏_array = []\n",
    "for c in range(len(A)):\n",
    "    𝜏_array.append(𝜏(A[c]))"
   ]
  },
  {
   "cell_type": "markdown",
   "id": "f53c43fe",
   "metadata": {},
   "source": [
    "$$ \\eta_{s} = \\frac{S_{sy}}{\\tau} $$"
   ]
  },
  {
   "cell_type": "code",
   "execution_count": 112,
   "id": "228ceeff",
   "metadata": {},
   "outputs": [],
   "source": [
    "def 𝜂s(As):\n",
    "    return round(ssy/𝜏(As), 4)\n",
    "\n",
    "𝜂s_array = []\n",
    "for c in range(len(A)):\n",
    "    𝜂s_array.append(𝜂s(A[c]))"
   ]
  },
  {
   "cell_type": "markdown",
   "id": "6fc5b4eb",
   "metadata": {},
   "source": [
    "$$ \\sigma_{c} = \\frac{F}{A_{c}} $$"
   ]
  },
  {
   "cell_type": "code",
   "execution_count": 113,
   "id": "f1b16dbe",
   "metadata": {},
   "outputs": [],
   "source": [
    "def 𝜎c(Ac):\n",
    "    return round(F/Ac, 4)\n",
    "\n",
    "𝜎c_array = []\n",
    "for c in range(len(A)):\n",
    "    𝜎c_array.append(𝜎c(A[c]))"
   ]
  },
  {
   "cell_type": "markdown",
   "id": "5536de48",
   "metadata": {},
   "source": [
    "$$ \\eta_{c} = \\frac{S_{y}}{\\sigma_{c}} $$"
   ]
  },
  {
   "cell_type": "code",
   "execution_count": 114,
   "id": "e78bf498",
   "metadata": {},
   "outputs": [],
   "source": [
    "def 𝜂c(Ac):\n",
    "    return round(sy/𝜎c(Ac), 4)\n",
    "\n",
    "𝜂c_array = []\n",
    "for c in range(len(A)):\n",
    "    𝜂c_array.append(𝜂c(A[c]))"
   ]
  },
  {
   "cell_type": "code",
   "execution_count": 115,
   "id": "24deca46",
   "metadata": {},
   "outputs": [],
   "source": [
    "data_1 = {\n",
    "       'Sy [MPa]': [sy],\n",
    "        'b [mm]':  [b],\n",
    "        'h [mm]':  [h],\n",
    "        'd [mm]':  [d],\n",
    "        'T [N.m]':  [T],\n",
    "        'F [N]':  [F],\n",
    "        'Ssy [MPa]':[ssy],\n",
    "}\n",
    "\n",
    "data_2 = {\n",
    "        'A_s,c [mm²]': A,\n",
    "        '𝜏 [MPa]':  𝜏_array,\n",
    "        '𝜂s': 𝜂s_array,\n",
    "        '𝜎c [MPa]': 𝜎c_array,\n",
    "        '𝜂c':  𝜂c_array \n",
    "        \n",
    "       }\n",
    "\n"
   ]
  },
  {
   "cell_type": "code",
   "execution_count": 116,
   "id": "a6c5bff9",
   "metadata": {},
   "outputs": [
    {
     "data": {
      "text/html": [
       "<div>\n",
       "<style scoped>\n",
       "    .dataframe tbody tr th:only-of-type {\n",
       "        vertical-align: middle;\n",
       "    }\n",
       "\n",
       "    .dataframe tbody tr th {\n",
       "        vertical-align: top;\n",
       "    }\n",
       "\n",
       "    .dataframe thead th {\n",
       "        text-align: right;\n",
       "    }\n",
       "</style>\n",
       "<table border=\"1\" class=\"dataframe\">\n",
       "  <thead>\n",
       "    <tr style=\"text-align: right;\">\n",
       "      <th></th>\n",
       "      <th>0</th>\n",
       "    </tr>\n",
       "  </thead>\n",
       "  <tbody>\n",
       "    <tr>\n",
       "      <th>Sy [MPa]</th>\n",
       "      <td>350.00</td>\n",
       "    </tr>\n",
       "    <tr>\n",
       "      <th>b [mm]</th>\n",
       "      <td>6.00</td>\n",
       "    </tr>\n",
       "    <tr>\n",
       "      <th>h [mm]</th>\n",
       "      <td>7.50</td>\n",
       "    </tr>\n",
       "    <tr>\n",
       "      <th>d [mm]</th>\n",
       "      <td>38.00</td>\n",
       "    </tr>\n",
       "    <tr>\n",
       "      <th>T [N.m]</th>\n",
       "      <td>475.00</td>\n",
       "    </tr>\n",
       "    <tr>\n",
       "      <th>F [N]</th>\n",
       "      <td>25000.00</td>\n",
       "    </tr>\n",
       "    <tr>\n",
       "      <th>Ssy [MPa]</th>\n",
       "      <td>202.07</td>\n",
       "    </tr>\n",
       "  </tbody>\n",
       "</table>\n",
       "</div>"
      ],
      "text/plain": [
       "                  0\n",
       "Sy [MPa]     350.00\n",
       "b [mm]         6.00\n",
       "h [mm]         7.50\n",
       "d [mm]        38.00\n",
       "T [N.m]      475.00\n",
       "F [N]      25000.00\n",
       "Ssy [MPa]    202.07"
      ]
     },
     "metadata": {},
     "output_type": "display_data"
    },
    {
     "data": {
      "text/html": [
       "<div>\n",
       "<style scoped>\n",
       "    .dataframe tbody tr th:only-of-type {\n",
       "        vertical-align: middle;\n",
       "    }\n",
       "\n",
       "    .dataframe tbody tr th {\n",
       "        vertical-align: top;\n",
       "    }\n",
       "\n",
       "    .dataframe thead th {\n",
       "        text-align: right;\n",
       "    }\n",
       "</style>\n",
       "<table border=\"1\" class=\"dataframe\">\n",
       "  <thead>\n",
       "    <tr style=\"text-align: right;\">\n",
       "      <th></th>\n",
       "      <th>0</th>\n",
       "      <th>1</th>\n",
       "    </tr>\n",
       "  </thead>\n",
       "  <tbody>\n",
       "    <tr>\n",
       "      <th>A_s,c [mm²]</th>\n",
       "      <td>42.79</td>\n",
       "      <td>111.45</td>\n",
       "    </tr>\n",
       "    <tr>\n",
       "      <th>𝜏 [MPa]</th>\n",
       "      <td>584.25</td>\n",
       "      <td>224.32</td>\n",
       "    </tr>\n",
       "    <tr>\n",
       "      <th>𝜂s</th>\n",
       "      <td>0.35</td>\n",
       "      <td>0.90</td>\n",
       "    </tr>\n",
       "    <tr>\n",
       "      <th>𝜎c [MPa]</th>\n",
       "      <td>584.25</td>\n",
       "      <td>224.32</td>\n",
       "    </tr>\n",
       "    <tr>\n",
       "      <th>𝜂c</th>\n",
       "      <td>0.60</td>\n",
       "      <td>1.56</td>\n",
       "    </tr>\n",
       "  </tbody>\n",
       "</table>\n",
       "</div>"
      ],
      "text/plain": [
       "                  0       1\n",
       "A_s,c [mm²]   42.79  111.45\n",
       "𝜏 [MPa]      584.25  224.32\n",
       "𝜂s             0.35    0.90\n",
       "𝜎c [MPa]     584.25  224.32\n",
       "𝜂c             0.60    1.56"
      ]
     },
     "metadata": {},
     "output_type": "display_data"
    }
   ],
   "source": [
    "df_1 = DataFrame(data_1, dtype='float64').round(2)\n",
    "df_2 = DataFrame(data_2, dtype='float64').round(2)\n",
    "display(df_1.T)\n",
    "display(df_2.T)"
   ]
  }
 ],
 "metadata": {
  "kernelspec": {
   "display_name": "Python 3",
   "language": "python",
   "name": "python3"
  },
  "language_info": {
   "codemirror_mode": {
    "name": "ipython",
    "version": 3
   },
   "file_extension": ".py",
   "mimetype": "text/x-python",
   "name": "python",
   "nbconvert_exporter": "python",
   "pygments_lexer": "ipython3",
   "version": "3.8.8"
  }
 },
 "nbformat": 4,
 "nbformat_minor": 5
}
