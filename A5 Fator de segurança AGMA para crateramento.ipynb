{
 "cells": [
  {
   "cell_type": "code",
   "execution_count": 135,
   "metadata": {},
   "outputs": [],
   "source": [
    "from numpy import cos, sin, radians, pi, sqrt, interp, log10, log, asarray, abs\n",
    "import pandas as pd"
   ]
  },
  {
   "cell_type": "markdown",
   "metadata": {},
   "source": [
    "Informações enunciado"
   ]
  },
  {
   "cell_type": "code",
   "execution_count": 136,
   "metadata": {},
   "outputs": [],
   "source": [
    "m = 4                  #modulo\n",
    "Np, Ng= 18, 54         #número de dentes \n",
    "theta = 20             #angulo de pressão\n",
    "ωp = 1500              #rotação pinhão\n",
    "sy = 330               #MPa\n",
    "n = 3.5                #coeficiente de segurança\n",
    "η = 8                  #eficiencia  #%\n",
    "v = 0.29               #coeficiente de poisson"
   ]
  },
  {
   "cell_type": "code",
   "execution_count": 137,
   "metadata": {},
   "outputs": [],
   "source": [
    "Ep = Eg = 186*10**3     #MPa\n",
    "vp = vg = v \n",
    "\n",
    "cte = [2.47*10**(-1),\n",
    "      0.657*10**(-3),\n",
    "     -1.186*10**(-7)]\n",
    "\n",
    "Av = 10                 #assumindo indice de qualidade 10"
   ]
  },
  {
   "cell_type": "code",
   "execution_count": 138,
   "metadata": {},
   "outputs": [],
   "source": [
    "ZW = 1    #fator de razão de dureza para resistencia ao crateramento    #O valor de ZW para o pinhão é fixado em 1,0.\n",
    "Y0 = 1    #fator de temperatura     #1 p/ até 120C"
   ]
  },
  {
   "cell_type": "code",
   "execution_count": 139,
   "metadata": {},
   "outputs": [],
   "source": [
    "Lp = Lg = 55                #meses\n",
    "qp = qg = 1                 #p/ rotação em 1 direção só\n",
    "confp = confg = 90          #confiabilidade #%\n",
    "ft = [3.12, 1.69]           #tabelado em função do número de dentes"
   ]
  },
  {
   "cell_type": "code",
   "execution_count": 140,
   "metadata": {},
   "outputs": [],
   "source": [
    "r = [ft[0]*m, ft[1]*m] "
   ]
  },
  {
   "cell_type": "code",
   "execution_count": 141,
   "metadata": {},
   "outputs": [],
   "source": [
    "def de(N):\n",
    "    return m*( N + 2 )                        #d_externo\n",
    "\n",
    "def dr(N):\n",
    "    return m*( N - 2.5 )                      #d_raiz\n",
    "\n",
    "def dp(N):\n",
    "    return m*N                                #d_primitivo  \n",
    "         \n",
    "def db(N):\n",
    "    return cos(radians(theta))*dp(N)          #d_base\n",
    "\n",
    "def V(N, ω):\n",
    "    return (pi*ω/30)*(dp(N)/2000)             #velocidade linear\n",
    "\n",
    "def KV(N, ω):\n",
    "    return (6.1 + V(N, ω))/6.1                #fator de velocidade"
   ]
  },
  {
   "cell_type": "code",
   "execution_count": 142,
   "metadata": {},
   "outputs": [],
   "source": [
    "p = m*pi                                 #passo circular\n",
    "e = p/2                                  #espessura do dente\n",
    "r = 0.3*m                                #raio do filete \n",
    "i = Ng/Np                                #relação de engrenamento\n",
    "b = 12*m                                 #largura da face 6 a 16*m  \n",
    "f = 0.3*m                                #cordão raiz do dente (ou raio do filete)\n",
    "d_centros = ( dp(Np) + dp(Ng) )/2        #Distancia entre centros "
   ]
  },
  {
   "cell_type": "code",
   "execution_count": 143,
   "metadata": {},
   "outputs": [],
   "source": [
    "##FATOR DE FORMA##\n",
    "def Y(N):\n",
    "    N_l = [12, 13, 14, 15, 16, 17, 18, 19, 20, 21, 22, 24, 26, 28, 30, 34, 38, 43, 50, 60, 75, 100, 150, 300, 400]\n",
    "    Y_l = [0.2450, 0.2610, 0.2770, 0.2900, 0.2960, 0.3030, 0.3090, 0.3140, 0.3220, 0.3280, 0.3310, 0.3370, 0.3460, 0.3530, 0.3590, 0.3710, 0.3840, 0.3970, 0.4090, 0.4220, 0.4350, 0.4470, 0.4600, 0.4720, 0.4800]\n",
    "    return interp(N, N_l, Y_l)"
   ]
  },
  {
   "cell_type": "code",
   "execution_count": 144,
   "metadata": {},
   "outputs": [],
   "source": [
    "σmax = sy/n                                                                                  #tensão máxima\n",
    "ωg = ωp/i                                                                                    #rotação na coroa\n",
    "\n",
    "def wt(N, ω):\n",
    "    return ( sy*b*m*Y(N) ) / ( n*KV(N, ω) )                                                  #carga tangecial\n",
    "\n",
    "def T(N, ω):                                                                                 #torque\n",
    "    return wt(N, ω)*(dp(N)/2000)\n",
    "\n",
    "Pp, Pg = wt(N=Np, ω=ωp)*V(N=Np, ω=ωp), ( T(N=Ng, ω=ωg) * ωg )*(100 - η)/ ( 100 * 9.55 )      #potencia\n"
   ]
  },
  {
   "cell_type": "code",
   "execution_count": 145,
   "metadata": {},
   "outputs": [],
   "source": [
    "## CONSTANTES PARA CALCULAR O FATOR DINAMICO kv ##\n",
    "B = 0.25 * (Av - 5)**(2/3)\n",
    "C = 3.5637 + 3.9914*( 1 - B )"
   ]
  },
  {
   "cell_type": "code",
   "execution_count": 146,
   "metadata": {},
   "outputs": [],
   "source": [
    "Khma = cte[0] + cte[1]*b + cte[2]*(b**2)         #fator de alinhamento de engrenamento\n",
    "Khe = 1                                          #fator de ajuste\n",
    "Khpm = 1                                         #fator de carga de deflexão\n",
    "Khmc = 1                                         #fator de formato da face do dente\n",
    "\n",
    "def Khpf(N):\n",
    "    return ( b/(10*dp(N)) ) - 0.0375 + 0.000492*b   #fator de proporção do pinhão"
   ]
  },
  {
   "cell_type": "code",
   "execution_count": 162,
   "metadata": {},
   "outputs": [],
   "source": [
    "def Ko():\n",
    "    return 1.25                                          #fator de sobrecarga      #motor elétrico que aciona uma bomba centrífuga de baixa velocidade\n",
    "\n",
    "def Kh(N):\n",
    "    return 1 + Khmc * ( Khpf(N) * Khpm + Khma * Khe)    #fator de distribuição de carga\n",
    "\n",
    "def kv(N, ω):\n",
    "    return ( C / (C + sqrt(V(N, ω)) ) )**(-B)         #fator dinâmico\n",
    "\n",
    "#def Ks():\n",
    "#    return 1                                             #fator de tamanho\n",
    "\n",
    "if b>=2.79 and b<=51:\n",
    "    def Ks(N):\n",
    "        return 1/( 1.18337*(b*m*sqrt(Y(N)))**(-0.0535) )   #p/ b de 2,79 a 51mm\n",
    "\n",
    "if b>=52 and b<=254:\n",
    "    def Ks(N):\n",
    "        return 1/( 1.18337*(b*m*sqrt(Y(N)))**(-0.0535) )   #p/ b de 52 a 254mm\n"
   ]
  },
  {
   "cell_type": "code",
   "execution_count": 163,
   "metadata": {},
   "outputs": [],
   "source": [
    "def Zr():\n",
    "    return 1                                                                   #fator de condição de superfície\n",
    "\n",
    "def Ze():\n",
    "    return sqrt( 1/( pi * ( ( (1 - vp**2) / Ep) + (( 1 - vg**2 ) / Eg) ) ) )   #coeficiente de elasticidade"
   ]
  },
  {
   "cell_type": "code",
   "execution_count": 164,
   "metadata": {},
   "outputs": [],
   "source": [
    "def C_c():\n",
    "    return cos(radians(theta)) * sin(radians(theta)) * i / ( 2*(i+1) )   #fator de curvatura na linha primitiva\n",
    "\n",
    "def C_1(N):\n",
    "     return N*sin(radians(theta))/2\n",
    "\n",
    "def C_2(N):\n",
    "    return C_1(N)*i\n",
    "\n",
    "def C_3(N):\n",
    "    return pi*cos(radians(theta))\n",
    "\n",
    "def C_4(N):\n",
    "     return 0.5 * ( sqrt( ((N + 2)**2) - (N*cos( radians(theta)))**2 ) - sqrt( (N**2) - (N*cos( radians(theta) ))**2 ) )\n",
    "\n",
    "def C_x(N):\n",
    "    return (C_1(N) - C_3(N) + C_4(N))*(C_2(N) + C_3(N) - C_4(N)) / ( C_1(N)*C_2(N) )  # fator para ajuste da altura específica do LPSTC (ponto extremo inferior de contato de um dente)"
   ]
  },
  {
   "cell_type": "code",
   "execution_count": 165,
   "metadata": {},
   "outputs": [],
   "source": [
    "## FATOR GEOMÉTRICO PARA RESISTÊNCIA AO CRATERAMENTO ##\n",
    "\n",
    "def Zi(N):\n",
    "    return C_c()*C_x(N)                "
   ]
  },
  {
   "cell_type": "code",
   "execution_count": 166,
   "metadata": {},
   "outputs": [],
   "source": [
    "## TENSÃO DE CONTATO ##\n",
    "\n",
    "def 𝜎H(N, ω):\n",
    "    return 𝑍e()*sqrt( ( wt(N, ω) * 𝐾o() *  kv(N, ω) * 𝐾s(N) * 𝐾h(N) * 𝑍r() ) / (dp(N) * 𝑏 * 𝑍i(N)) )  "
   ]
  },
  {
   "cell_type": "code",
   "execution_count": 168,
   "metadata": {},
   "outputs": [],
   "source": [
    "## FATOR DE CONFIABILIDADE ##\n",
    "## CONSIDERANDO A TABELA ##\n",
    "\n",
    "def YZ(conf):\n",
    "    data_yz = {\n",
    "        'confiabilidade': [99.99, 99.9, 99, 90, 50],\n",
    "        'Yz': [1.5, 1.25, 1, 0.85, 0.70]\n",
    "    }\n",
    "    df_yz = pd.DataFrame(data_yz)\n",
    "    return float(df_yz.loc[df_yz['confiabilidade']==float(conf)]['Yz'])\n",
    "\n",
    "## CONSIDERANDO A EQUAÇÃO ##\n",
    "\n",
    "#def YZ(conf):\n",
    "#    return 0.658 - 0.0759*log(1-conf/100)   #0,5<=conf<=0,99\n",
    "#\n",
    "#def YZ(conf):\n",
    "#    return 0.5 - 0.109*log(1-conf/100)      #0,99<=conf<=0,9999"
   ]
  },
  {
   "cell_type": "code",
   "execution_count": 154,
   "metadata": {},
   "outputs": [],
   "source": [
    "def nL(L, ω, q):\n",
    "    return 60*L*ω*q*720         #número de ciclos de tensão\n",
    "\n",
    "def ZN(L, ω, q):\n",
    "    return 1.4488*nL(L, ω, q)**(-0.023)    #fator do ciclagem de tensão para resistência ao crateramento\n",
    "  \n",
    "def HB(N, ω, L, q, conf):\n",
    "    return ( ( 𝜎H(N, ω)*Y0*YZ(conf) / ( ZN(L, ω, q)*ZW ) ) - 200 ) / 2.22      #dureza brinel preliminar #considerando SH = 1"
   ]
  },
  {
   "cell_type": "code",
   "execution_count": 169,
   "metadata": {},
   "outputs": [],
   "source": [
    "def brinell(value):\n",
    "    data_brinell = [111,116,121,126,131,137,143,149,156,163,167,170,174,179,183,187,192,197,201,207,212,217,223,229,235,\n",
    "     241,248,255,262,269,277,285,293,302,311,321,331,341,352,363,375,388,401,415,429,444,461,477,495,514,534,555,578,601,\n",
    "     627,653,682,712,745]\n",
    "\n",
    "    def find_nearest(array, value):\n",
    "        array = asarray(array)\n",
    "        idx = (abs(array - value)).argmin() \n",
    "        return array[idx]\n",
    "\n",
    "    if find_nearest(data_brinell, value)>=value:\n",
    "        idx = find_nearest(data_brinell, value)\n",
    "    else: \n",
    "        array = asarray(data_brinell)\n",
    "        idx = array[(abs(array - value)).argmin()  + 1]\n",
    "\n",
    "    return idx       #dureza brinel (entra o valor preliminar HB e retorna o valor mais próximo (acima) dos valores tabelados de dureza)"
   ]
  },
  {
   "cell_type": "code",
   "execution_count": 170,
   "metadata": {},
   "outputs": [],
   "source": [
    "def 𝜎HB(N, ω, L, q, conf):\n",
    "    return brinell(HB(N, ω, L, q, conf))*2.22 + 200          #Número ao contato permitido\n",
    "\n",
    "def SH(N, ω, L, q, conf):\n",
    "    return 𝜎HB(N, ω, L, q, conf)*ZN(L, ω, q)*ZW/(𝜎H(N, ω)*Y0*YZ(conf))    #fator de segurança AGMA ao contato"
   ]
  },
  {
   "cell_type": "code",
   "execution_count": 187,
   "metadata": {},
   "outputs": [],
   "source": [
    "data = {\n",
    "'': ['Pinhão', 'Coroa'],\n",
    "'Diâmetro externo [mm]:': [round(de(Np), 2) , round(de(Ng), 2)],\n",
    "'Diâmetro raiz [mm]:': [round(dr(Np), 2) , round(dr(Ng), 2)],\n",
    "'Diâmetro primitivo [mm]:': [round(dp(Np), 2) , round(dp(Ng), 2)],\n",
    "'Diâmetro base [mm]:': [round(db(Np), 2) , round(db(Ng), 2)],\n",
    "'Cordão raiz do dente [mm]:': [round(f, 2) , round(f, 2)] ,\n",
    "'Velocidade linear em [m/s]:': [round(V(N=Np, ω=ωp), 2) , round(V(N=Ng, ω=ωg), 2)] ,\n",
    "'Largura da face nominal [mm]:': [round(b, 2) , round(b, 2)],\n",
    "'Relação de engrenamento (i):': [round(i, 2) , '-'],\n",
    "'Distância entre centros das engrenagens [mm]:': [round(d_centros, 2) , '-'],\n",
    "'Passo circular:': [round(p, 2) , '-'],\n",
    "'Espessura do dente [mm]:': [round(e, 2) , round(e, 2)],\n",
    "'Tensão máxima admissível [MPa]:': [round(σmax, 2) , round(σmax, 2)],\n",
    "'Fator de velocidade:': [round(KV(N=Np, ω=ωp), 3) , round(KV(N=Np, ω=ωp), 3)],\n",
    "'Fator de forma:': [round(Y(Np), 3) , round(Y(Ng), 3)],\n",
    "'Carga tangencial [N]:': [round(wt(N=Np, ω=ωp), 2) , round(wt(N=Ng, ω=ωg), 2)],\n",
    "'Potencia [W]:': [round(Pp, 2) , round(Pg, 2)],\n",
    "'Torque [N*m]:': [ round( T( N=Np, ω=ωp ), 2 ) , round( T( N=Ng, ω=ωg ), 2 ) ],\n",
    "'Rotação [rpm]: ': [round(ωp ,2) , round(ωg, 2)],\n",
    "'Tensão de contato [MPa]': [ round(𝜎H(N=Np, ω=ωp), 2), round(𝜎H(N=Ng, ω=ωg), 2) ],\n",
    "'Coeficiente de elasticidade (Ze) [MPa^(1/2)]': [round(Ze(), 2), round(Ze(), 2)],\n",
    "'Fator de sobrecarga (Ko)': [round(Ko(), 2), round(Ko(), 2)],\n",
    "'Fator dinâmico (Kv)': [round( kv(N=Np, ω=ωp), 2 ), round( kv(N=Ng, ω=ωg), 2 ) ],\n",
    "'Fator de tamanho (Ks)': [ round(Ks(N=Np), 2), round(Ks(N=Ng), 2)],\n",
    "'Distribuição de carga (Kh)': [ round(Kh(dp(Np)), 2), round(Kh(dp(Ng)), 2)],\n",
    "'Fator geométrico (Zi)': [round(Zi(Np), 2), round(Zi(Ng), 2)],\n",
    "'Fator de ciclagem de tensão para resistência ao crateramento (Zn)' : [ round(ZN(L=Lp, ω=ωp, q = qp), 2), '-'],\n",
    "'Dureza Brinell': [ round(brinell(HB(N=Np, ω=ωp, L=Lp, q=qp, conf=confp)), 2), '-' ],\n",
    "'Número ao contato permitido AGMA (𝜎HB) [MPa]': [ round(𝜎HB(N=Np, ω=ωp, L=Lp, q=qp, conf=confp), 2),'-' ],\n",
    "'Fator de segurança AGMA [MPa]': [round(SH(N=Np, ω=ωp, L=Lp, q=qp, conf=confp), 2), '-']\n",
    "}"
   ]
  },
  {
   "cell_type": "code",
   "execution_count": 188,
   "metadata": {},
   "outputs": [],
   "source": [
    "df = pd.DataFrame(data)"
   ]
  },
  {
   "cell_type": "code",
   "execution_count": 189,
   "metadata": {},
   "outputs": [
    {
     "data": {
      "text/html": [
       "<div>\n",
       "<style scoped>\n",
       "    .dataframe tbody tr th:only-of-type {\n",
       "        vertical-align: middle;\n",
       "    }\n",
       "\n",
       "    .dataframe tbody tr th {\n",
       "        vertical-align: top;\n",
       "    }\n",
       "\n",
       "    .dataframe thead th {\n",
       "        text-align: right;\n",
       "    }\n",
       "</style>\n",
       "<table border=\"1\" class=\"dataframe\">\n",
       "  <thead>\n",
       "    <tr style=\"text-align: right;\">\n",
       "      <th></th>\n",
       "      <th></th>\n",
       "      <th>Diâmetro externo [mm]:</th>\n",
       "      <th>Diâmetro raiz [mm]:</th>\n",
       "      <th>Diâmetro primitivo [mm]:</th>\n",
       "      <th>Diâmetro base [mm]:</th>\n",
       "      <th>Cordão raiz do dente [mm]:</th>\n",
       "      <th>Velocidade linear em [m/s]:</th>\n",
       "      <th>Largura da face nominal [mm]:</th>\n",
       "      <th>Relação de engrenamento (i):</th>\n",
       "      <th>Distância entre centros das engrenagens [mm]:</th>\n",
       "      <th>...</th>\n",
       "      <th>Coeficiente de elasticidade (Ze) [MPa^(1/2)]</th>\n",
       "      <th>Fator de sobrecarga (Ko)</th>\n",
       "      <th>Fator dinâmico (Kv)</th>\n",
       "      <th>Fator de tamanho (Ks)</th>\n",
       "      <th>Distribuição de carga (Kh)</th>\n",
       "      <th>Fator geométrico (Zi)</th>\n",
       "      <th>Fator de ciclagem de tensão para resistência ao crateramento (Zn)</th>\n",
       "      <th>Dureza Brinell</th>\n",
       "      <th>Número ao contato permitido AGMA (𝜎HB) [MPa]</th>\n",
       "      <th>Fator de segurança AGMA [MPa]</th>\n",
       "    </tr>\n",
       "  </thead>\n",
       "  <tbody>\n",
       "    <tr>\n",
       "      <th>0</th>\n",
       "      <td>Pinhão</td>\n",
       "      <td>80</td>\n",
       "      <td>62.0</td>\n",
       "      <td>72</td>\n",
       "      <td>67.66</td>\n",
       "      <td>1.2</td>\n",
       "      <td>5.65</td>\n",
       "      <td>48</td>\n",
       "      <td>3.0</td>\n",
       "      <td>144.0</td>\n",
       "      <td>...</td>\n",
       "      <td>179.78</td>\n",
       "      <td>1.25</td>\n",
       "      <td>1.35</td>\n",
       "      <td>1.08</td>\n",
       "      <td>1.28</td>\n",
       "      <td>0.10</td>\n",
       "      <td>0.87</td>\n",
       "      <td>269</td>\n",
       "      <td>797.18</td>\n",
       "      <td>1.01</td>\n",
       "    </tr>\n",
       "    <tr>\n",
       "      <th>1</th>\n",
       "      <td>Coroa</td>\n",
       "      <td>224</td>\n",
       "      <td>206.0</td>\n",
       "      <td>216</td>\n",
       "      <td>202.97</td>\n",
       "      <td>1.2</td>\n",
       "      <td>5.65</td>\n",
       "      <td>48</td>\n",
       "      <td>-</td>\n",
       "      <td>-</td>\n",
       "      <td>...</td>\n",
       "      <td>179.78</td>\n",
       "      <td>1.25</td>\n",
       "      <td>1.35</td>\n",
       "      <td>1.09</td>\n",
       "      <td>1.27</td>\n",
       "      <td>0.12</td>\n",
       "      <td>-</td>\n",
       "      <td>-</td>\n",
       "      <td>-</td>\n",
       "      <td>-</td>\n",
       "    </tr>\n",
       "  </tbody>\n",
       "</table>\n",
       "<p>2 rows × 30 columns</p>\n",
       "</div>"
      ],
      "text/plain": [
       "           Diâmetro externo [mm]:  Diâmetro raiz [mm]:  \\\n",
       "0  Pinhão                      80                 62.0   \n",
       "1   Coroa                     224                206.0   \n",
       "\n",
       "   Diâmetro primitivo [mm]:  Diâmetro base [mm]:  Cordão raiz do dente [mm]:  \\\n",
       "0                        72                67.66                         1.2   \n",
       "1                       216               202.97                         1.2   \n",
       "\n",
       "   Velocidade linear em [m/s]:  Largura da face nominal [mm]:  \\\n",
       "0                         5.65                             48   \n",
       "1                         5.65                             48   \n",
       "\n",
       "  Relação de engrenamento (i): Distância entre centros das engrenagens [mm]:  \\\n",
       "0                          3.0                                         144.0   \n",
       "1                            -                                             -   \n",
       "\n",
       "   ... Coeficiente de elasticidade (Ze) [MPa^(1/2)]  Fator de sobrecarga (Ko)  \\\n",
       "0  ...                                       179.78                      1.25   \n",
       "1  ...                                       179.78                      1.25   \n",
       "\n",
       "   Fator dinâmico (Kv)  Fator de tamanho (Ks)  Distribuição de carga (Kh)  \\\n",
       "0                 1.35                   1.08                        1.28   \n",
       "1                 1.35                   1.09                        1.27   \n",
       "\n",
       "   Fator geométrico (Zi)  \\\n",
       "0                   0.10   \n",
       "1                   0.12   \n",
       "\n",
       "   Fator de ciclagem de tensão para resistência ao crateramento (Zn)  \\\n",
       "0                                               0.87                   \n",
       "1                                                  -                   \n",
       "\n",
       "   Dureza Brinell  Número ao contato permitido AGMA (𝜎HB) [MPa]  \\\n",
       "0             269                                        797.18   \n",
       "1               -                                             -   \n",
       "\n",
       "   Fator de segurança AGMA [MPa]  \n",
       "0                           1.01  \n",
       "1                              -  \n",
       "\n",
       "[2 rows x 30 columns]"
      ]
     },
     "metadata": {},
     "output_type": "display_data"
    }
   ],
   "source": [
    "display(df)"
   ]
  },
  {
   "cell_type": "code",
   "execution_count": 161,
   "metadata": {},
   "outputs": [],
   "source": [
    "#df.to_excel('calculos.xlsx', index=False)"
   ]
  }
 ],
 "metadata": {
  "interpreter": {
   "hash": "345b6144113f7c80acc8a12c8c192446b7c2a491cb28a453563d65a82f6ad31d"
  },
  "kernelspec": {
   "display_name": "Python 3.8.8 64-bit ('base': conda)",
   "name": "python3"
  },
  "language_info": {
   "codemirror_mode": {
    "name": "ipython",
    "version": 3
   },
   "file_extension": ".py",
   "mimetype": "text/x-python",
   "name": "python",
   "nbconvert_exporter": "python",
   "pygments_lexer": "ipython3",
   "version": "3.8.8"
  }
 },
 "nbformat": 4,
 "nbformat_minor": 2
}
