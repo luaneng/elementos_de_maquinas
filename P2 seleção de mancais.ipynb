{
 "cells": [
  {
   "cell_type": "markdown",
   "id": "0019c0eb",
   "metadata": {},
   "source": [
    "Um mancal deve ser projetado para sustentar uma carga radial de 2500 N de um eixo com diâmetro nominal de 70 mm que gira a 1150 rpm e deve trabalhar a uma temperatura de 100 °C."
   ]
  },
  {
   "cell_type": "code",
   "execution_count": 199,
   "id": "c13ee53d",
   "metadata": {},
   "outputs": [],
   "source": [
    "Fr = 2500 #N\n",
    "Dn = 70   #mm\n",
    "n = 1150  #rpm\n",
    "T = 100   #ºC"
   ]
  },
  {
   "cell_type": "markdown",
   "id": "49b05da9",
   "metadata": {},
   "source": [
    "Importando bibliotecas para auxiliarem nos cálculos "
   ]
  },
  {
   "cell_type": "code",
   "execution_count": 200,
   "id": "9282068f",
   "metadata": {},
   "outputs": [],
   "source": [
    "import numpy as np\n",
    "import pandas as pd"
   ]
  },
  {
   "cell_type": "markdown",
   "id": "8e9252e0",
   "metadata": {},
   "source": [
    "1.Escolha, da primeira linha do catalogo, um rolamento fixo de uma carreira de esferas. Considere que há também uma carga axila de 200 N, interpole para determinar os valores exatos e referentes a “e”. Encontre: vida nominal desse rolamento em horas e meses, quais são as dimesões desse rolamento e do mancal de rolamentos. "
   ]
  },
  {
   "cell_type": "markdown",
   "id": "fe18ca5a",
   "metadata": {},
   "source": [
    "$$Rolamento: 6814$$\n",
    "$$D=90 mm$$\n",
    "$$B=10 mm$$\n",
    "$$r_{min} = 0,6 mm$$\n",
    "$$c_r = 12100N$$\n",
    "$$c_{0r} = 12700N$$\n",
    "$$f_{0} = 17,2$$\n"
   ]
  },
  {
   "cell_type": "code",
   "execution_count": 201,
   "id": "3ef264fb",
   "metadata": {},
   "outputs": [],
   "source": [
    "Fa = 200 #N\n",
    "f0 = 17.2 \n",
    "cr = 12100 #N\n",
    "c0r = 12700 #N"
   ]
  },
  {
   "cell_type": "markdown",
   "id": "9c19e3a0",
   "metadata": {},
   "source": [
    "Interpolação para encontrar e"
   ]
  },
  {
   "cell_type": "code",
   "execution_count": 202,
   "id": "d51a1ae8",
   "metadata": {},
   "outputs": [],
   "source": [
    "def interpolacao(var):\n",
    "    x = [0.172, 0.345, 0.689, 1.03, 1.38, 2.07, 3.45, 5.17, 6.89]\n",
    "    y = [0.19, 0.22, 0.26, 0.28, 0.30, 0.34, 0.38, 0.42, 0.44]\n",
    "    return round(np.interp(var, x, y), 2)"
   ]
  },
  {
   "cell_type": "code",
   "execution_count": 203,
   "id": "ec9fe090",
   "metadata": {},
   "outputs": [
    {
     "data": {
      "text/plain": [
       "0.21"
      ]
     },
     "execution_count": 203,
     "metadata": {},
     "output_type": "execute_result"
    }
   ],
   "source": [
    "e = interpolacao(f0*Fa/c0r)\n",
    "round(e, 4)      #função round de arredondamento "
   ]
  },
  {
   "cell_type": "markdown",
   "id": "313f5f1c",
   "metadata": {},
   "source": [
    "$$ e = 0,21$$"
   ]
  },
  {
   "cell_type": "code",
   "execution_count": 204,
   "id": "40549cac",
   "metadata": {},
   "outputs": [
    {
     "data": {
      "text/plain": [
       "0.08"
      ]
     },
     "execution_count": 204,
     "metadata": {},
     "output_type": "execute_result"
    }
   ],
   "source": [
    "Fa/Fr"
   ]
  },
  {
   "cell_type": "markdown",
   "id": "a4f81b9c",
   "metadata": {},
   "source": [
    "$$\\frac{F_a}{F_r} = 0,08$$"
   ]
  },
  {
   "cell_type": "markdown",
   "id": "233cb1e3",
   "metadata": {},
   "source": [
    "$$\\frac{Fa}{Fr}<e \\Rightarrow X=1, Y=0$$"
   ]
  },
  {
   "cell_type": "code",
   "execution_count": 205,
   "id": "08a7e32b",
   "metadata": {},
   "outputs": [],
   "source": [
    "X, Y = 1, 0"
   ]
  },
  {
   "cell_type": "code",
   "execution_count": 206,
   "id": "6c68e771",
   "metadata": {},
   "outputs": [],
   "source": [
    "P = X*Fr + Y*Fa"
   ]
  },
  {
   "cell_type": "code",
   "execution_count": 207,
   "id": "a0be2cb5",
   "metadata": {},
   "outputs": [
    {
     "data": {
      "text/plain": [
       "2500"
      ]
     },
     "execution_count": 207,
     "metadata": {},
     "output_type": "execute_result"
    }
   ],
   "source": [
    "P0 = Fr\n",
    "round(P0, 4)"
   ]
  },
  {
   "cell_type": "markdown",
   "id": "1e9d575c",
   "metadata": {},
   "source": [
    "$$ P_{0} = 2500 N$$"
   ]
  },
  {
   "cell_type": "markdown",
   "id": "7cd5d970",
   "metadata": {},
   "source": [
    "Coeficiente de velocidade angular"
   ]
  },
  {
   "cell_type": "code",
   "execution_count": 208,
   "id": "c07f7058",
   "metadata": {},
   "outputs": [
    {
     "data": {
      "text/plain": [
       "0.307"
      ]
     },
     "execution_count": 208,
     "metadata": {},
     "output_type": "execute_result"
    }
   ],
   "source": [
    "fn = round((0.03*n)**(-1/3), 3) \n",
    "round(fn, 4)"
   ]
  },
  {
   "cell_type": "markdown",
   "id": "1b4966f3",
   "metadata": {},
   "source": [
    "$$ f_{n} = 0,307 $$"
   ]
  },
  {
   "cell_type": "markdown",
   "id": "4cbecdf9",
   "metadata": {},
   "source": [
    "Coeficiente de vida"
   ]
  },
  {
   "cell_type": "code",
   "execution_count": 209,
   "id": "516e54b1",
   "metadata": {},
   "outputs": [
    {
     "data": {
      "text/plain": [
       "1.486"
      ]
     },
     "execution_count": 209,
     "metadata": {},
     "output_type": "execute_result"
    }
   ],
   "source": [
    "fh = round(fn*(cr/P), 3)\n",
    "round(fh, 4)"
   ]
  },
  {
   "cell_type": "markdown",
   "id": "915acdad",
   "metadata": {},
   "source": [
    "$$ f_{h}=1,486$$"
   ]
  },
  {
   "cell_type": "markdown",
   "id": "f3fac24d",
   "metadata": {},
   "source": [
    "Vida em horas"
   ]
  },
  {
   "cell_type": "code",
   "execution_count": 210,
   "id": "60dd93bc",
   "metadata": {},
   "outputs": [
    {
     "data": {
      "text/plain": [
       "(1640.6896, 2.2475)"
      ]
     },
     "execution_count": 210,
     "metadata": {},
     "output_type": "execute_result"
    }
   ],
   "source": [
    "Lh = round(500*(fh**3), 4)\n",
    "round(Lh, 4), round(Lh/730, 4)"
   ]
  },
  {
   "cell_type": "markdown",
   "id": "9bb69e93",
   "metadata": {},
   "source": [
    "# Respostas 1"
   ]
  },
  {
   "cell_type": "markdown",
   "id": "b32367e9",
   "metadata": {},
   "source": [
    "$$ e = 0,21$$"
   ]
  },
  {
   "cell_type": "markdown",
   "id": "5c819191",
   "metadata": {},
   "source": [
    "Vida"
   ]
  },
  {
   "cell_type": "markdown",
   "id": "6aea3050",
   "metadata": {},
   "source": [
    "$$L_h = 1640,6896 horas$$"
   ]
  },
  {
   "cell_type": "markdown",
   "id": "ed268854",
   "metadata": {},
   "source": [
    "$$L_h = 2,2475 meses$$"
   ]
  },
  {
   "cell_type": "markdown",
   "id": "da3e3271",
   "metadata": {},
   "source": [
    "Dimensões do rolamento"
   ]
  },
  {
   "cell_type": "markdown",
   "id": "9e386b0b",
   "metadata": {},
   "source": [
    "$$Rolamento: 6814$$\n",
    "$$D=90 mm$$\n",
    "$$B=10 mm$$\n",
    "$$r_{min} = 0,6 mm$$\n",
    "$$c_r = 12100N$$\n",
    "$$c_{0r} = 12700N$$\n",
    "$$f_{0} = 17,2$$"
   ]
  },
  {
   "cell_type": "markdown",
   "id": "5d1fcf51",
   "metadata": {},
   "source": [
    "Dimensões do mancal de rolamentos"
   ]
  },
  {
   "cell_type": "markdown",
   "id": "f6e6ba40",
   "metadata": {},
   "source": [
    "$$ 74 \\leq d_a \\leq 74,5 mm$$\n",
    "$$ D_{a_(max)} = 86 mm$$\n",
    "$$ r_{a_(max)} = 0,6 mm$$\n",
    "$$ D_{x_(min)} = 96 mm$$\n",
    "$$ C_{Y_(max)} = 2,5 mm$$"
   ]
  },
  {
   "cell_type": "markdown",
   "id": "6e49fff4",
   "metadata": {},
   "source": [
    "2.Escolha, da primeira linha do catalogo, um rolamento autocompensador de rolos. Considere que há também uma carga axial de 200 N. Encontre: vida nominal desse rolamento em horas e meses, quais são as dimesões desse rolamento e do mancal de rolamentos."
   ]
  },
  {
   "cell_type": "markdown",
   "id": "87f68ba7",
   "metadata": {},
   "source": [
    "$$ Rolamento: 22214EAE4$$\n",
    "$$ D=125 mm$$\n",
    "$$ B=31 mm$$\n",
    "$$ r_{min} = 1,5 mm$$\n",
    "$$ c_r = 225000N$$\n",
    "$$ c_{0r} = 232000N$$\n",
    "$$ e = 0,23$$\n",
    "$$ Y_{2} = 4,3$$\n",
    "$$ Y_{3} = 2,9$$\n",
    "$$ Y_{0} = 2,8$$\n"
   ]
  },
  {
   "cell_type": "code",
   "execution_count": 211,
   "id": "6512743e",
   "metadata": {},
   "outputs": [],
   "source": [
    "cr = 225000 #N\n",
    "c0r = 232000 #N\n",
    "e = 0.23\n",
    "Y0, Y2, Y3 = 2.8, 4.3, 2.8"
   ]
  },
  {
   "cell_type": "code",
   "execution_count": 212,
   "id": "98cdadc6",
   "metadata": {},
   "outputs": [
    {
     "data": {
      "text/plain": [
       "(0.08, 0.23)"
      ]
     },
     "execution_count": 212,
     "metadata": {},
     "output_type": "execute_result"
    }
   ],
   "source": [
    "Fa/Fr, e"
   ]
  },
  {
   "cell_type": "markdown",
   "id": "565508e5",
   "metadata": {},
   "source": [
    "$$\\frac{F_a}{F_r} = 0,08$$"
   ]
  },
  {
   "cell_type": "markdown",
   "id": "90b1a29b",
   "metadata": {},
   "source": [
    "$$\\frac{Fa}{Fr}<e \\Rightarrow X=1, Y=Y_{3}$$"
   ]
  },
  {
   "cell_type": "code",
   "execution_count": 213,
   "id": "736bd0fc",
   "metadata": {},
   "outputs": [],
   "source": [
    "X, Y = 1, Y3"
   ]
  },
  {
   "cell_type": "code",
   "execution_count": 214,
   "id": "d60769d4",
   "metadata": {},
   "outputs": [
    {
     "data": {
      "text/plain": [
       "3060.0"
      ]
     },
     "execution_count": 214,
     "metadata": {},
     "output_type": "execute_result"
    }
   ],
   "source": [
    "P = X*Fr + Y*Fa\n",
    "round(P, 4)"
   ]
  },
  {
   "cell_type": "markdown",
   "id": "b009730c",
   "metadata": {},
   "source": [
    "$$ P = 3060 N$$"
   ]
  },
  {
   "cell_type": "code",
   "execution_count": 215,
   "id": "4edea4d6",
   "metadata": {},
   "outputs": [
    {
     "data": {
      "text/plain": [
       "3060.0"
      ]
     },
     "execution_count": 215,
     "metadata": {},
     "output_type": "execute_result"
    }
   ],
   "source": [
    "P0 = Fr + Y0*Fa\n",
    "round(P0, 4)"
   ]
  },
  {
   "cell_type": "markdown",
   "id": "124fa277",
   "metadata": {},
   "source": [
    "$$ P_{0}=3060 N$$"
   ]
  },
  {
   "cell_type": "code",
   "execution_count": 216,
   "id": "0dd685ad",
   "metadata": {},
   "outputs": [
    {
     "data": {
      "text/plain": [
       "0.3072"
      ]
     },
     "execution_count": 216,
     "metadata": {},
     "output_type": "execute_result"
    }
   ],
   "source": [
    "fn = round((0.03*n)**(-1/3), 4)\n",
    "round(fn, 4)"
   ]
  },
  {
   "cell_type": "markdown",
   "id": "2439de28",
   "metadata": {},
   "source": [
    "$$ f_{n} = 0,3072 $$"
   ]
  },
  {
   "cell_type": "code",
   "execution_count": 217,
   "id": "4872fb97",
   "metadata": {},
   "outputs": [
    {
     "data": {
      "text/plain": [
       "22.5882"
      ]
     },
     "execution_count": 217,
     "metadata": {},
     "output_type": "execute_result"
    }
   ],
   "source": [
    "fh = round(fn*(cr/P), 4)\n",
    "round(fh, 4)"
   ]
  },
  {
   "cell_type": "markdown",
   "id": "bea14c67",
   "metadata": {},
   "source": [
    "$$ f_{h}=22,5882$$"
   ]
  },
  {
   "cell_type": "code",
   "execution_count": 218,
   "id": "66e17a8c",
   "metadata": {},
   "outputs": [
    {
     "data": {
      "text/plain": [
       "(5762552.2674, 8003.5448, 666.9621)"
      ]
     },
     "execution_count": 218,
     "metadata": {},
     "output_type": "execute_result"
    }
   ],
   "source": [
    "Lh = 500*(fh**3)\n",
    "round(Lh, 4), round(Lh/720, 4), round((Lh/720)/12, 4)"
   ]
  },
  {
   "cell_type": "markdown",
   "id": "ee2402c3",
   "metadata": {},
   "source": [
    "# Respostas 2"
   ]
  },
  {
   "cell_type": "markdown",
   "id": "fd24fff3",
   "metadata": {},
   "source": [
    "$$L_{h}=5762552,2674 horas$$\n",
    "$$L_{h}= 8003,5448 meses = 666,9621 anos$$"
   ]
  },
  {
   "cell_type": "markdown",
   "id": "dcadbacf",
   "metadata": {},
   "source": [
    "Dimensões do rolamento\n",
    "$$ Rolamento: 22214EAE4$$\n",
    "$$ D=125 mm$$\n",
    "$$ B=31 mm$$\n",
    "$$ r_{min} = 1,5 mm$$\n",
    "$$ c_r = 225000N$$\n",
    "$$ c_{0r} = 232000N$$\n",
    "$$ e = 0,23$$\n",
    "$$ Y_{2} = 4,3$$\n",
    "$$ Y_{3} = 2,9$$\n",
    "$$ Y_{0} = 2,8$$"
   ]
  },
  {
   "cell_type": "markdown",
   "id": "865f3494",
   "metadata": {},
   "source": [
    "Dimensões do mancal de rolamentos\n",
    "$$ 79 \\leq d_{a} \\leq 84 mm$$\n",
    "$$ 111 \\leq D_{a} \\leq 116 mm$$\n",
    "$$ r_{a_(max)} = 1,5 mm$$"
   ]
  },
  {
   "cell_type": "markdown",
   "id": "5eedd156",
   "metadata": {},
   "source": [
    "3.Considere uma bucha com lubrificação marginal. Encontre: Velocidade linear, comprimento da bucha, pressão, pV de projeto, qual seria o material da bucha, folga diametral segundo Mott, folga de deslizamento apertado e livre segundo Shigley."
   ]
  },
  {
   "cell_type": "code",
   "execution_count": 241,
   "id": "98acdbf1",
   "metadata": {},
   "outputs": [
    {
     "data": {
      "text/plain": [
       "4214.9701"
      ]
     },
     "execution_count": 241,
     "metadata": {},
     "output_type": "execute_result"
    }
   ],
   "source": [
    "V = np.pi*Dn*(n/60)\n",
    "round(V, 4)"
   ]
  },
  {
   "cell_type": "markdown",
   "id": "28490cd3",
   "metadata": {},
   "source": [
    "$$ V=4212,9701 m/s$$"
   ]
  },
  {
   "cell_type": "code",
   "execution_count": 220,
   "id": "8089ebf3",
   "metadata": {},
   "outputs": [
    {
     "data": {
      "text/plain": [
       "35.0"
      ]
     },
     "execution_count": 220,
     "metadata": {},
     "output_type": "execute_result"
    }
   ],
   "source": [
    "L = 0.5*Dn\n",
    "round(L, 4)"
   ]
  },
  {
   "cell_type": "markdown",
   "id": "dd9db7c9",
   "metadata": {},
   "source": [
    "$$L=35 mm$$"
   ]
  },
  {
   "cell_type": "code",
   "execution_count": 221,
   "id": "0e63ed1d",
   "metadata": {},
   "outputs": [
    {
     "data": {
      "text/plain": [
       "1.0204"
      ]
     },
     "execution_count": 221,
     "metadata": {},
     "output_type": "execute_result"
    }
   ],
   "source": [
    "p = Fr/(Dn*L)\n",
    "round(p, 4)"
   ]
  },
  {
   "cell_type": "markdown",
   "id": "af36c168",
   "metadata": {},
   "source": [
    "$$ p = 1,0204 MPa$$"
   ]
  },
  {
   "cell_type": "code",
   "execution_count": 222,
   "id": "ba2168f7",
   "metadata": {},
   "outputs": [
    {
     "data": {
      "text/plain": [
       "8601.9799"
      ]
     },
     "execution_count": 222,
     "metadata": {},
     "output_type": "execute_result"
    }
   ],
   "source": [
    "x = 2*p*V\n",
    "round(x, 4)"
   ]
  },
  {
   "cell_type": "markdown",
   "id": "ad610b9b",
   "metadata": {},
   "source": [
    "$$ 2pV=8601,9799 MPa·m/s$$"
   ]
  },
  {
   "cell_type": "markdown",
   "id": "0d69256e",
   "metadata": {},
   "source": [
    "$$ Material: DP31$$"
   ]
  },
  {
   "cell_type": "code",
   "execution_count": 223,
   "id": "a78d8a5a",
   "metadata": {},
   "outputs": [
    {
     "data": {
      "text/html": [
       "<div>\n",
       "<style scoped>\n",
       "    .dataframe tbody tr th:only-of-type {\n",
       "        vertical-align: middle;\n",
       "    }\n",
       "\n",
       "    .dataframe tbody tr th {\n",
       "        vertical-align: top;\n",
       "    }\n",
       "\n",
       "    .dataframe thead th {\n",
       "        text-align: right;\n",
       "    }\n",
       "</style>\n",
       "<table border=\"1\" class=\"dataframe\">\n",
       "  <thead>\n",
       "    <tr style=\"text-align: right;\">\n",
       "      <th></th>\n",
       "      <th>Material</th>\n",
       "      <th>pV (MPa*(m/s))</th>\n",
       "      <th>Fabricante</th>\n",
       "      <th>Descricão</th>\n",
       "      <th>Coeficiente de atrito</th>\n",
       "      <th>Velocidade maxima (m/s)</th>\n",
       "    </tr>\n",
       "  </thead>\n",
       "  <tbody>\n",
       "    <tr>\n",
       "      <th>0</th>\n",
       "      <td>DP31, oleo</td>\n",
       "      <td>10,00</td>\n",
       "      <td>GGB Bearing Technology</td>\n",
       "      <td>Metal Polímero a base de PTFE, rugosidade míni...</td>\n",
       "      <td>0,01 - 0,05</td>\n",
       "      <td>10</td>\n",
       "    </tr>\n",
       "  </tbody>\n",
       "</table>\n",
       "</div>"
      ],
      "text/plain": [
       "     Material pV (MPa*(m/s))              Fabricante  \\\n",
       "0  DP31, oleo          10,00  GGB Bearing Technology   \n",
       "\n",
       "                                           Descricão Coeficiente de atrito  \\\n",
       "0  Metal Polímero a base de PTFE, rugosidade míni...           0,01 - 0,05   \n",
       "\n",
       "  Velocidade maxima (m/s)  \n",
       "0                      10  "
      ]
     },
     "metadata": {},
     "output_type": "display_data"
    }
   ],
   "source": [
    "data = {\n",
    "    \n",
    "    'Material': ['DP31, oleo'],\n",
    "    'pV (MPa*(m/s))': ['10,00'],\n",
    "    'Fabricante': ['GGB Bearing Technology'],\n",
    "    'Descricão': ['Metal Polímero a base de PTFE, rugosidade mínima Ra ≤  0.05 − 0.4'],\n",
    "    'Coeficiente de atrito': ['0,01 - 0,05'],\n",
    "    'Velocidade maxima (m/s)': ['10']\n",
    "    \n",
    "}\n",
    "\n",
    "df = pd.DataFrame(data)\n",
    "display(df)"
   ]
  },
  {
   "cell_type": "markdown",
   "id": "391e65f7",
   "metadata": {},
   "source": [
    "Folga diametral "
   ]
  },
  {
   "attachments": {},
   "cell_type": "markdown",
   "id": "e6104334",
   "metadata": {},
   "source": [
    "# ![title](img/n_d.png)"
   ]
  },
  {
   "cell_type": "markdown",
   "id": "8c405d79",
   "metadata": {},
   "source": [
    "$$ CD = 75 \\mu m$$"
   ]
  },
  {
   "cell_type": "code",
   "execution_count": 224,
   "id": "d2a647ca",
   "metadata": {},
   "outputs": [],
   "source": [
    "cd = 75 #𝜇𝑚"
   ]
  },
  {
   "cell_type": "markdown",
   "id": "40b89ca1",
   "metadata": {},
   "source": [
    "Deslizante justo"
   ]
  },
  {
   "cell_type": "code",
   "execution_count": 225,
   "id": "a51f3358",
   "metadata": {},
   "outputs": [],
   "source": [
    "a_i = -0.03\n",
    "A_s = 0.03"
   ]
  },
  {
   "cell_type": "code",
   "execution_count": 226,
   "id": "a6eb3b9f",
   "metadata": {},
   "outputs": [
    {
     "data": {
      "text/plain": [
       "0.06"
      ]
     },
     "execution_count": 226,
     "metadata": {},
     "output_type": "execute_result"
    }
   ],
   "source": [
    "t = (A_s - a_i)\n",
    "t"
   ]
  },
  {
   "cell_type": "markdown",
   "id": "dcf5d392",
   "metadata": {},
   "source": [
    "$$ t = 0,06mm$$"
   ]
  },
  {
   "cell_type": "markdown",
   "id": "0512895c",
   "metadata": {},
   "source": [
    "Livre"
   ]
  },
  {
   "cell_type": "code",
   "execution_count": 227,
   "id": "8776aeb4",
   "metadata": {},
   "outputs": [],
   "source": [
    "a_i = -0.09\n",
    "A_s = 0.03"
   ]
  },
  {
   "cell_type": "code",
   "execution_count": 228,
   "id": "a22a17e1",
   "metadata": {},
   "outputs": [
    {
     "data": {
      "text/plain": [
       "0.12"
      ]
     },
     "execution_count": 228,
     "metadata": {},
     "output_type": "execute_result"
    }
   ],
   "source": [
    "t = (A_s - a_i)\n",
    "t"
   ]
  },
  {
   "cell_type": "markdown",
   "id": "57af2724",
   "metadata": {},
   "source": [
    "$$ t = 0,12mm$$"
   ]
  },
  {
   "cell_type": "markdown",
   "id": "53766efd",
   "metadata": {},
   "source": [
    "4.Considere uma bucha com lubrificação completa, com relação de comprimento/diâmetro da bucha = 0,5. Encontre: folga radial, comprimento da bucha, espessura de filme, número de contato do mancal, posição mínima do filme, viscosidade absoluta, lubrificante SAE, pressão máxima, ângulo de pressão máximo e mínimo, fluxo volumétrico e de saída, coeficiente de atrito, torque de fricção, perda de energia de atrito."
   ]
  },
  {
   "cell_type": "code",
   "execution_count": 229,
   "id": "cf0f78c2",
   "metadata": {},
   "outputs": [
    {
     "data": {
      "text/plain": [
       "0.0375"
      ]
     },
     "execution_count": 229,
     "metadata": {},
     "output_type": "execute_result"
    }
   ],
   "source": [
    "c = cd/2000 #mm\n",
    "round(c, 4)"
   ]
  },
  {
   "cell_type": "markdown",
   "id": "ba4a8334",
   "metadata": {},
   "source": [
    "$$ C = 0,0375 mm$$"
   ]
  },
  {
   "cell_type": "code",
   "execution_count": 230,
   "id": "df5808d8",
   "metadata": {},
   "outputs": [
    {
     "data": {
      "text/plain": [
       "0.0175"
      ]
     },
     "execution_count": 230,
     "metadata": {},
     "output_type": "execute_result"
    }
   ],
   "source": [
    "h0 = 0.00025*Dn   #mm\n",
    "round(h0, 4)"
   ]
  },
  {
   "cell_type": "markdown",
   "id": "ffc1ccfc",
   "metadata": {},
   "source": [
    "$$ h_{0} = 0,0175mm$$"
   ]
  },
  {
   "cell_type": "code",
   "execution_count": 231,
   "id": "24ab3176",
   "metadata": {},
   "outputs": [
    {
     "data": {
      "text/plain": [
       "0.4667"
      ]
     },
     "execution_count": 231,
     "metadata": {},
     "output_type": "execute_result"
    }
   ],
   "source": [
    "round(h0/c, 4)"
   ]
  },
  {
   "cell_type": "markdown",
   "id": "0d003dca",
   "metadata": {},
   "source": [
    "$$ \\frac{h_0}{c}=0,4667$$"
   ]
  },
  {
   "attachments": {},
   "cell_type": "markdown",
   "id": "ea93665d",
   "metadata": {},
   "source": [
    "# ![title](img/h0_c.png)"
   ]
  },
  {
   "cell_type": "markdown",
   "id": "99894750",
   "metadata": {},
   "source": [
    "$$ S = \\frac{\\mu \\cdot n}{p} \\cdot \\left(\\frac{R}{c} \\right)^2 \\approx 0,42$$"
   ]
  },
  {
   "cell_type": "code",
   "execution_count": 232,
   "id": "d8ce34e8",
   "metadata": {},
   "outputs": [],
   "source": [
    "s = 0.42"
   ]
  },
  {
   "attachments": {},
   "cell_type": "markdown",
   "id": "78b98757",
   "metadata": {},
   "source": [
    "# ![title](img/espessura_min.png)"
   ]
  },
  {
   "cell_type": "markdown",
   "id": "e213ef3d",
   "metadata": {},
   "source": [
    "$$ \\phi=52^º$$"
   ]
  },
  {
   "cell_type": "code",
   "execution_count": 233,
   "id": "eef6f58c",
   "metadata": {},
   "outputs": [],
   "source": [
    "u = (s*p/(n/60))*(c/ (Dn/2) )**2"
   ]
  },
  {
   "cell_type": "code",
   "execution_count": 234,
   "id": "a16ff034",
   "metadata": {},
   "outputs": [
    {
     "data": {
      "text/plain": [
       "25.6687"
      ]
     },
     "execution_count": 234,
     "metadata": {},
     "output_type": "execute_result"
    }
   ],
   "source": [
    "round(u*10**9, 4)"
   ]
  },
  {
   "cell_type": "markdown",
   "id": "ea71f186",
   "metadata": {},
   "source": [
    "$$ \\mu = \\frac{S \\cdot p}{n} \\cdot \\left(\\frac{c}{R} \\right)^2 \\approx 25,6687 MPa \\cdot s $$"
   ]
  },
  {
   "attachments": {},
   "cell_type": "markdown",
   "id": "55d6524e",
   "metadata": {},
   "source": [
    "# ![title](img/viscosidade.png)"
   ]
  },
  {
   "cell_type": "markdown",
   "id": "33ebe1ce",
   "metadata": {},
   "source": [
    "Lubrificante SAE 70"
   ]
  },
  {
   "cell_type": "code",
   "execution_count": 235,
   "id": "3a86236f",
   "metadata": {},
   "outputs": [
    {
     "data": {
      "text/plain": [
       "2.373"
      ]
     },
     "execution_count": 235,
     "metadata": {},
     "output_type": "execute_result"
    }
   ],
   "source": [
    "pmax = p/0.43\n",
    "round(pmax, 4)"
   ]
  },
  {
   "cell_type": "markdown",
   "id": "c9da7cdf",
   "metadata": {},
   "source": [
    "$$ p_{max} = 2,373 MPa$$"
   ]
  },
  {
   "attachments": {},
   "cell_type": "markdown",
   "id": "73f6f77d",
   "metadata": {},
   "source": [
    "# ![title](img/angulos.png)"
   ]
  },
  {
   "cell_type": "markdown",
   "id": "742cee97",
   "metadata": {},
   "source": [
    "$$ \\theta_{p_0} = 71^º $$\n",
    "$$ \\theta_{p_{max}} = 15,5^º $$"
   ]
  },
  {
   "cell_type": "code",
   "execution_count": 242,
   "id": "641707b2",
   "metadata": {},
   "outputs": [
    {
     "data": {
      "text/plain": [
       "3.7596"
      ]
     },
     "execution_count": 242,
     "metadata": {},
     "output_type": "execute_result"
    }
   ],
   "source": [
    "Q = 4.27*(Dn/20)*(c/10)*(n/60)*(L/10)\n",
    "round(Q, 4)"
   ]
  },
  {
   "cell_type": "markdown",
   "id": "6ebe15db",
   "metadata": {},
   "source": [
    "$$ Q = 3,7596 cm^3/s$$"
   ]
  },
  {
   "attachments": {},
   "cell_type": "markdown",
   "id": "e618f5b7",
   "metadata": {},
   "source": [
    "# ![title](img/razao_fluxo.png)"
   ]
  },
  {
   "cell_type": "code",
   "execution_count": 237,
   "id": "38b0cac8",
   "metadata": {},
   "outputs": [
    {
     "data": {
      "text/plain": [
       "2.549"
      ]
     },
     "execution_count": 237,
     "metadata": {},
     "output_type": "execute_result"
    }
   ],
   "source": [
    "Qs = 0.678*Q\n",
    "round(Qs, 4)"
   ]
  },
  {
   "cell_type": "markdown",
   "id": "a5c0d84e",
   "metadata": {},
   "source": [
    "$$ Q_{s} = 2,549 cm^3/s$$"
   ]
  },
  {
   "attachments": {},
   "cell_type": "markdown",
   "id": "741a0958",
   "metadata": {},
   "source": [
    "# ![title](img/coef_atrito.png)"
   ]
  },
  {
   "cell_type": "markdown",
   "id": "02346113",
   "metadata": {},
   "source": [
    "$$ f \\cdot \\left(\\frac{R}{c} \\right) \\approx 10 \\Rightarrow f = 0,0107 $$"
   ]
  },
  {
   "cell_type": "code",
   "execution_count": 238,
   "id": "376ce49c",
   "metadata": {},
   "outputs": [
    {
     "data": {
      "text/plain": [
       "0.0107"
      ]
     },
     "execution_count": 238,
     "metadata": {},
     "output_type": "execute_result"
    }
   ],
   "source": [
    "f = 10*c/(Dn/2)\n",
    "round(f, 4)"
   ]
  },
  {
   "cell_type": "markdown",
   "id": "3c05b5f2",
   "metadata": {},
   "source": [
    "$$ 0,001 \\leq f \\leq 0,05 \\therefore Lubrificação \\: completa $$ "
   ]
  },
  {
   "cell_type": "code",
   "execution_count": 239,
   "id": "38e76b19",
   "metadata": {},
   "outputs": [
    {
     "data": {
      "text/plain": [
       "0.9375"
      ]
     },
     "execution_count": 239,
     "metadata": {},
     "output_type": "execute_result"
    }
   ],
   "source": [
    "Tf = f*Fr*(Dn/2000)\n",
    "round(Tf, 4)"
   ]
  },
  {
   "cell_type": "markdown",
   "id": "cadb5a51",
   "metadata": {},
   "source": [
    "$$ T_{f} = f \\cdot F_{r} \\cdot R = 0,9375 N/m $$"
   ]
  },
  {
   "cell_type": "code",
   "execution_count": 240,
   "id": "969214f7",
   "metadata": {},
   "outputs": [
    {
     "data": {
      "text/plain": [
       "112.8927"
      ]
     },
     "execution_count": 240,
     "metadata": {},
     "output_type": "execute_result"
    }
   ],
   "source": [
    "Pf = Tf*n/9.55\n",
    "round(Pf, 4)"
   ]
  },
  {
   "cell_type": "markdown",
   "id": "5625dbb1",
   "metadata": {},
   "source": [
    "$$ P_{f} = \\frac{T_{f} \\cdot n}{9,55} = 112,8927 W $$"
   ]
  },
  {
   "cell_type": "markdown",
   "id": "65c170f9",
   "metadata": {},
   "source": [
    "5.Entre essas 4 opções, desconsiderando preço, qual desses mancais você escolheria para um projeto e por que?"
   ]
  },
  {
   "cell_type": "markdown",
   "id": "0c3572e0",
   "metadata": {},
   "source": [
    "Escolheria o rolamento autocompensador de rolos devido a sua altíssima durabilidade."
   ]
  },
  {
   "cell_type": "code",
   "execution_count": null,
   "id": "f796557c",
   "metadata": {},
   "outputs": [],
   "source": []
  }
 ],
 "metadata": {
  "kernelspec": {
   "display_name": "Python 3",
   "language": "python",
   "name": "python3"
  },
  "language_info": {
   "codemirror_mode": {
    "name": "ipython",
    "version": 3
   },
   "file_extension": ".py",
   "mimetype": "text/x-python",
   "name": "python",
   "nbconvert_exporter": "python",
   "pygments_lexer": "ipython3",
   "version": "3.8.8"
  }
 },
 "nbformat": 4,
 "nbformat_minor": 5
}
